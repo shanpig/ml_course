{
 "cells": [
  {
   "cell_type": "code",
   "execution_count": 80,
   "metadata": {},
   "outputs": [],
   "source": [
    "%matplotlib inline\n",
    "\n",
    "import keras\n",
    "import numpy as np\n",
    "import pandas as pd\n",
    "import matplotlib.pyplot as plt\n",
    "\n",
    "from keras import optimizers\n",
    "from keras.utils import np_utils\n",
    "from keras.datasets import mnist\n",
    "from keras.models import Sequential\n",
    "from keras.layers import Dense, Input, Dropout, Activation\n"
   ]
  },
  {
   "cell_type": "markdown",
   "metadata": {},
   "source": [
    "## With NN and reshaping"
   ]
  },
  {
   "cell_type": "code",
   "execution_count": 2,
   "metadata": {},
   "outputs": [],
   "source": [
    "(x1_train, y1_train), (x1_test, y1_test) = mnist.load_data()"
   ]
  },
  {
   "cell_type": "code",
   "execution_count": 15,
   "metadata": {},
   "outputs": [
    {
     "name": "stdout",
     "output_type": "stream",
     "text": [
      "x_train.shape: (60000, 28, 28)\n",
      "x_test.shape: (10000, 28, 28)\n",
      "y_train.shape: (60000,)\n",
      "y_test.shape: (10000,)\n"
     ]
    }
   ],
   "source": [
    "print (\"x_train.shape: \"+str(x1_train.shape))\n",
    "print (\"x_test.shape: \"+str(x1_test.shape))\n",
    "print (\"y_train.shape: \"+str(y1_train.shape))\n",
    "print (\"y_test.shape: \"+str(y1_test.shape))"
   ]
  },
  {
   "cell_type": "markdown",
   "metadata": {},
   "source": [
    "## reshaping"
   ]
  },
  {
   "cell_type": "code",
   "execution_count": 52,
   "metadata": {},
   "outputs": [
    {
     "name": "stdout",
     "output_type": "stream",
     "text": [
      "X_tr1: (60000, 784)\n"
     ]
    }
   ],
   "source": [
    "X_tr1 = x1_train.reshape(len(x1_train), -1)  # reshaping\n",
    "X_tr1 = X_tr1.astype('float32')\n",
    "X_tr1 /= 255  # normalizing\n",
    "print (\"X_tr1: \"+str(X_tr1.shape))"
   ]
  },
  {
   "cell_type": "code",
   "execution_count": 53,
   "metadata": {},
   "outputs": [
    {
     "name": "stdout",
     "output_type": "stream",
     "text": [
      "X_ts1: (10000, 784)\n"
     ]
    }
   ],
   "source": [
    "X_ts1 = x1_test.reshape(len(x1_test), -1)  # reshaping\n",
    "X_ts1 = X_ts1.astype('float32')\n",
    "X_ts1 /= 255 # normalizing\n",
    "print (\"X_ts1: \"+str(X_ts1.shape))"
   ]
  },
  {
   "cell_type": "markdown",
   "metadata": {},
   "source": [
    "## Categorizing"
   ]
  },
  {
   "cell_type": "code",
   "execution_count": 59,
   "metadata": {},
   "outputs": [
    {
     "name": "stdout",
     "output_type": "stream",
     "text": [
      "Y_tr1: (60000, 10)\n",
      "Y_ts1: (10000, 10)\n"
     ]
    }
   ],
   "source": [
    "cat = 10\n",
    "Y_tr1 = np_utils.to_categorical(y1_train, cat) # categorize\n",
    "Y_ts1 = np_utils.to_categorical(y1_test, cat)  # categorize\n",
    "print (\"Y_tr1: \"+str(Y_tr1.shape))\n",
    "print (\"Y_ts1: \"+str(Y_ts1.shape))"
   ]
  },
  {
   "cell_type": "markdown",
   "metadata": {},
   "source": [
    "## Model building"
   ]
  },
  {
   "cell_type": "code",
   "execution_count": null,
   "metadata": {},
   "outputs": [],
   "source": [
    "input_img = Input(shape=(60000, 784))\n",
    "\n",
    "model=Sequential()\n",
    "\n",
    "model.add(Dense(units=32, activation='sigmoid', name=\"1st-layer\", ))\n",
    "model.add(Dense(units=16, activation='sigmoid', name=\"2nd-layer\"))\n",
    "model.add(Dense(units=10, activation='softmax', name=\"3rd-layer\"))\n",
    "\n",
    "model.compile(optimizer=optimizers.Adam(), loss='categorical_crossentropy', metrics=['accuracy'])"
   ]
  },
  {
   "cell_type": "markdown",
   "metadata": {},
   "source": [
    "## Fitting data"
   ]
  },
  {
   "cell_type": "code",
   "execution_count": null,
   "metadata": {},
   "outputs": [],
   "source": [
    "model_data = model.fit(X_tr1, Y_tr1, epochs=20, batch_size=128, shuffle=True, validation_split=0.2)"
   ]
  },
  {
   "cell_type": "markdown",
   "metadata": {},
   "source": [
    "## Prediction"
   ]
  },
  {
   "cell_type": "code",
   "execution_count": 74,
   "metadata": {},
   "outputs": [],
   "source": [
    "predict = model.predict_classes(x=X_ts1)"
   ]
  },
  {
   "cell_type": "markdown",
   "metadata": {},
   "source": [
    "## Define result function"
   ]
  },
  {
   "cell_type": "code",
   "execution_count": 123,
   "metadata": {},
   "outputs": [],
   "source": [
    "def results():\n",
    "    count = 0\n",
    "    for i in range(len(x1_test)):\n",
    "        if y1_test[i] != predict[i]:\n",
    "            print (str(predict[i])+\"!=\"+str(y1_test[i]), end=\", \")\n",
    "            count+=1\n",
    "    print (\"\\n\\nwrong count = \"+str(count))"
   ]
  },
  {
   "cell_type": "markdown",
   "metadata": {},
   "source": [
    "## Result"
   ]
  },
  {
   "cell_type": "code",
   "execution_count": 124,
   "metadata": {},
   "outputs": [
    {
     "name": "stdout",
     "output_type": "stream",
     "text": [
      "8!=3, 4!=2, 5!=9, 2!=4, 0!=6, 7!=2, 3!=5, 7!=3, 2!=8, 0!=6, 2!=8, 2!=8, 8!=1, 8!=2, 3!=7, 4!=8, 9!=4, 6!=0, 8!=5, 2!=7, 7!=9, 4!=5, 6!=1, 0!=6, 5!=6, 1!=7, 8!=6, 3!=9, 7!=3, 3!=7, 8!=6, 9!=7, 2!=7, 4!=9, 9!=4, 5!=9, 1!=7, 9!=5, 7!=5, 3!=8, 6!=8, 9!=7, 6!=2, 2!=8, 6!=5, 3!=5, 8!=4, 4!=9, 9!=4, 1!=7, 9!=7, 6!=1, 7!=8, 6!=4, 2!=0, 6!=0, 7!=3, 3!=9, 0!=8, 3!=5, 2!=4, 2!=7, 3!=2, 3!=8, 4!=9, 2!=7, 5!=9, 9!=0, 2!=1, 9!=7, 8!=4, 9!=4, 7!=3, 0!=6, 1!=6, 8!=5, 6!=5, 6!=1, 0!=8, 0!=9, 2!=0, 9!=5, 1!=9, 3!=8, 3!=8, 1!=9, 1!=2, 8!=6, 4!=2, 9!=4, 8!=5, 7!=9, 2!=8, 1!=7, 0!=9, 1!=6, 8!=5, 7!=4, 0!=8, 3!=7, 2!=3, 2!=3, 7!=3, 5!=3, 5!=6, 1!=9, 7!=9, 2!=1, 9!=5, 3!=8, 3!=8, 7!=5, 0!=6, 1!=9, 4!=6, 9!=4, 0!=5, 5!=8, 5!=8, 7!=0, 3!=9, 2!=7, 3!=8, 3!=8, 9!=4, 2!=7, 3!=8, 3!=7, 9!=3, 6!=4, 8!=2, 3!=7, 3!=2, 6!=0, 1!=7, 4!=9, 6!=5, 3!=5, 3!=1, 6!=4, 5!=3, 1!=7, 4!=9, 2!=0, 7!=9, 3!=9, 1!=5, 4!=9, 0!=9, 6!=2, 9!=7, 6!=2, 7!=9, 8!=2, 7!=2, 5!=9, 8!=5, 3!=5, 3!=5, 4!=9, 6!=5, 4!=9, 2!=7, 7!=3, 7!=8, 5!=6, 2!=6, 4!=7, 8!=6, 5!=3, 2!=7, 7!=8, 3!=8, 0!=6, 4!=9, 0!=9, 8!=0, 3!=8, 3!=2, 4!=8, 9!=7, 4!=3, 4!=8, 6!=1, 3!=8, 5!=3, 3!=2, 5!=1, 7!=3, 3!=5, 6!=8, 5!=0, 9!=7, 7!=4, 5!=7, 9!=4, 3!=5, 8!=3, 8!=3, 0!=2, 3!=9, 3!=9, 3!=9, 8!=9, 2!=9, 6!=8, 8!=5, 6!=0, 6!=2, 0!=9, 7!=0, 9!=8, 3!=9, 4!=3, 4!=9, 7!=9, 6!=2, 4!=3, 2!=7, 1!=7, 7!=0, 5!=9, 4!=8, 5!=9, 5!=0, 3!=5, 3!=8, 6!=1, 7!=0, 3!=7, 9!=4, 6!=5, 2!=3, 2!=3, 8!=1, 6!=8, 8!=1, 1!=2, 8!=2, 5!=8, 7!=0, 4!=8, 4!=6, 6!=0, 6!=8, 9!=4, 5!=8, 9!=4, 6!=8, 6!=5, 3!=7, 2!=7, 2!=7, 2!=7, 5!=8, 3!=5, 4!=9, 3!=0, 7!=9, 7!=2, 7!=4, 3!=6, 5!=6, 8!=2, 5!=2, 6!=5, 2!=4, 5!=8, 0!=2, 0!=5, 0!=5, 0!=2, 9!=4, 4!=9, 7!=2, 6!=5, 2!=3, 6!=5, \n",
      "\n",
      "wrong count = 278\n"
     ]
    }
   ],
   "source": [
    "results()"
   ]
  },
  {
   "cell_type": "code",
   "execution_count": 127,
   "metadata": {},
   "outputs": [
    {
     "ename": "AttributeError",
     "evalue": "'numpy.ndarray' object has no attribute 'history'",
     "output_type": "error",
     "traceback": [
      "\u001b[1;31m---------------------------------------------------------------------------\u001b[0m",
      "\u001b[1;31mAttributeError\u001b[0m                            Traceback (most recent call last)",
      "\u001b[1;32m<ipython-input-127-c8d78e95e34e>\u001b[0m in \u001b[0;36m<module>\u001b[1;34m\u001b[0m\n\u001b[1;32m----> 1\u001b[1;33m \u001b[0mpredict\u001b[0m\u001b[1;33m.\u001b[0m\u001b[0mhistory\u001b[0m\u001b[1;33m[\u001b[0m\u001b[1;34m\"acc\"\u001b[0m\u001b[1;33m]\u001b[0m\u001b[1;33m\u001b[0m\u001b[0m\n\u001b[0m",
      "\u001b[1;31mAttributeError\u001b[0m: 'numpy.ndarray' object has no attribute 'history'"
     ]
    }
   ],
   "source": [
    "predict.history[\"acc\"]"
   ]
  },
  {
   "cell_type": "code",
   "execution_count": null,
   "metadata": {},
   "outputs": [],
   "source": []
  }
 ],
 "metadata": {
  "kernelspec": {
   "display_name": "Python 3",
   "language": "python",
   "name": "python3"
  },
  "language_info": {
   "codemirror_mode": {
    "name": "ipython",
    "version": 3
   },
   "file_extension": ".py",
   "mimetype": "text/x-python",
   "name": "python",
   "nbconvert_exporter": "python",
   "pygments_lexer": "ipython3",
   "version": "3.6.5"
  }
 },
 "nbformat": 4,
 "nbformat_minor": 2
}
