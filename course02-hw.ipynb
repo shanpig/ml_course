{
 "cells": [
  {
   "cell_type": "code",
   "execution_count": 152,
   "metadata": {},
   "outputs": [
    {
     "data": {
      "application/vnd.jupyter.widget-view+json": {
       "model_id": "28efec4a64974f70a37c5b7ccae39572",
       "version_major": 2,
       "version_minor": 0
      },
      "text/plain": [
       "interactive(children=(IntSlider(value=1, description='face', max=3), IntSlider(value=0, description='body', ma…"
      ]
     },
     "metadata": {},
     "output_type": "display_data"
    },
    {
     "data": {
      "text/plain": [
       "<function __main__.person(face, body=0, legs=0)>"
      ]
     },
     "execution_count": 152,
     "metadata": {},
     "output_type": "execute_result"
    }
   ],
   "source": [
    "%matplotlib inline\n",
    "from ipywidgets import interact\n",
    "import matplotlib.pyplot as plt\n",
    "import numpy as np\n",
    "def person(face, body=0, legs=0):\n",
    "    layer=[['   (థ౪థ)   ', \\\n",
    "            '  (・´ｪ`・)  ', \\\n",
    "            ' (´≖◞౪◟≖) ', \\\n",
    "            '   (❍ᴥ❍ʋ)   '], \\\n",
    "           ['   /|二|\\      ', \\\n",
    "            '  /|二二|\\     ', \\\n",
    "            ' /|二二二|\\    ', \\\n",
    "            ' σ(二二二)σ    '], \\\n",
    "           ['    /  \\      ', \\\n",
    "            '   _| |_      ', \\\n",
    "            '    T T   ']]\n",
    "    \n",
    "    print (layer[0][face])\n",
    "    print (layer[1][body])\n",
    "    print (layer[2][legs])\n",
    "interact(person, face=(0, 3), body=(0, 3), legs=(0, 2))"
   ]
  },
  {
   "cell_type": "code",
   "execution_count": null,
   "metadata": {},
   "outputs": [],
   "source": []
  }
 ],
 "metadata": {
  "kernelspec": {
   "display_name": "Python 3",
   "language": "python",
   "name": "python3"
  },
  "language_info": {
   "codemirror_mode": {
    "name": "ipython",
    "version": 3
   },
   "file_extension": ".py",
   "mimetype": "text/x-python",
   "name": "python",
   "nbconvert_exporter": "python",
   "pygments_lexer": "ipython3",
   "version": "3.6.5"
  }
 },
 "nbformat": 4,
 "nbformat_minor": 2
}
