{
 "cells": [
  {
   "cell_type": "markdown",
   "metadata": {},
   "source": [
    "## Array導向程式設計\n",
    "「不到最後關頭, 絕不輕言使用迴圈」。\n",
    "\n",
    "example:\n",
    "    grades = [35, 74, 43, 66, 87, 55, 71, 65]"
   ]
  },
  {
   "cell_type": "code",
   "execution_count": 1,
   "metadata": {},
   "outputs": [],
   "source": [
    "%matplotlib inline \n",
    "import matplotlib.pyplot as plt \n",
    "import pandas as pd\n",
    "import numpy as np\n",
    "\n",
    "grades = [35, 74, 43, 66, 87, 55, 71, 65]"
   ]
  },
  {
   "cell_type": "markdown",
   "metadata": {},
   "source": []
  },
  {
   "cell_type": "code",
   "execution_count": 2,
   "metadata": {},
   "outputs": [
    {
     "name": "stdout",
     "output_type": "stream",
     "text": [
      "[42.5, 85.4, 51.3, 76.6, 99.7, 64.5, 82.1, 75.5]\n"
     ]
    }
   ],
   "source": [
    "# *1.1倍 + 4\n",
    "curved = []\n",
    "for i in grades:\n",
    "    curved.append(round(i*1.1+4, 2))\n",
    "print (curved)"
   ]
  },
  {
   "cell_type": "markdown",
   "metadata": {},
   "source": [
    "array 形式：\n"
   ]
  },
  {
   "cell_type": "code",
   "execution_count": 3,
   "metadata": {},
   "outputs": [
    {
     "name": "stdout",
     "output_type": "stream",
     "text": [
      "[42.5 85.4 51.3 76.6 99.7 64.5 82.1 75.5]\n"
     ]
    }
   ],
   "source": [
    "grad_arr = np.array(grades)\n",
    "grad_arr = grad_arr*1.1+4\n",
    "print (grad_arr)"
   ]
  },
  {
   "cell_type": "markdown",
   "metadata": {},
   "source": [
    "一位老師成績這樣算的:\n",
    "\n",
    "平時成績 20%\n",
    "期中考 35%\n",
    "期未考 45%\n",
    "有位同學\n",
    "\n",
    "平時成績 85 分\n",
    "期中 70 分\n",
    "期末 80 分\n",
    "這位同學的學期成績是多少?"
   ]
  },
  {
   "cell_type": "code",
   "execution_count": 4,
   "metadata": {},
   "outputs": [
    {
     "name": "stdout",
     "output_type": "stream",
     "text": [
      "[17.  24.5 36. ]\n"
     ]
    }
   ],
   "source": [
    "grades = np.array([85, 70, 80])\n",
    "weights = np.array([0.2, 0.35, 0.45])\n",
    "\n",
    "wgrades = grades*weights\n",
    "print (wgrades)"
   ]
  },
  {
   "cell_type": "markdown",
   "metadata": {},
   "source": [
    "我們其實可以用 dot product (矩陣乘法) 算出來! A@B = A dot B "
   ]
  },
  {
   "cell_type": "code",
   "execution_count": 5,
   "metadata": {},
   "outputs": [
    {
     "data": {
      "text/plain": [
       "77.5"
      ]
     },
     "execution_count": 5,
     "metadata": {},
     "output_type": "execute_result"
    }
   ],
   "source": [
    "grades @ weights"
   ]
  },
  {
   "cell_type": "markdown",
   "metadata": {},
   "source": [
    "多數據一起算"
   ]
  },
  {
   "cell_type": "code",
   "execution_count": 6,
   "metadata": {},
   "outputs": [
    {
     "data": {
      "text/plain": [
       "array([77.5 , 67.85, 63.7 ])"
      ]
     },
     "execution_count": 6,
     "metadata": {},
     "output_type": "execute_result"
    }
   ],
   "source": [
    "grades = np.array([[85, 70, 80], [12, 88, 77], [85, 91, 33]])\n",
    "grades@weights"
   ]
  },
  {
   "cell_type": "code",
   "execution_count": 7,
   "metadata": {},
   "outputs": [
    {
     "data": {
      "text/plain": [
       "array([77.5 , 67.85, 63.7 ])"
      ]
     },
     "execution_count": 7,
     "metadata": {},
     "output_type": "execute_result"
    }
   ],
   "source": [
    "grades.shape\n",
    "weights.reshape(3, 1)\n",
    "grades@weights"
   ]
  },
  {
   "cell_type": "markdown",
   "metadata": {},
   "source": [
    "## 04-04 重要的 array 大變身\n",
    "我們在數據分析, 常常要改 array 的型式。\n",
    "\n",
    "#### [練習] 一個 50 個數字的 array\n",
    "先想辦法、用亂數做出 50 個數字的 array, 叫做 A 好了。"
   ]
  },
  {
   "cell_type": "code",
   "execution_count": 8,
   "metadata": {},
   "outputs": [
    {
     "name": "stdout",
     "output_type": "stream",
     "text": [
      "A = [3 1 0 8 9 4 3 6 3 7 5 2 0 0 0 8 3 6 0 0 5 7 6 4 7 2 1 7 1 7 8 9 6 5 4 5 1\n",
      " 6 5 6 8 3 4 2 4 3 8 1 5 1]\n",
      "(50,)\n",
      "[[3 1 0 8 9]\n",
      " [4 3 6 3 7]\n",
      " [5 2 0 0 0]\n",
      " [8 3 6 0 0]\n",
      " [5 7 6 4 7]\n",
      " [2 1 7 1 7]\n",
      " [8 9 6 5 4]\n",
      " [5 1 6 5 6]\n",
      " [8 3 4 2 4]\n",
      " [3 8 1 5 1]]\n",
      "[3 1 0 8 9 4 3 6 3 7 5 2 0 0 0 8 3 6 0 0 5 7 6 4 7 2 1 7 1 7 8 9 6 5 4 5 1\n",
      " 6 5 6 8 3 4 2 4 3 8 1 5 1]\n"
     ]
    }
   ],
   "source": [
    "A = np.random.randint(0, 10, 50)\n",
    "print ('A = '+str(A))\n",
    "print (A.shape)\n",
    "A = A.reshape(10, 5)\n",
    "print (A)\n",
    "A = A.ravel()\n",
    "print (A)"
   ]
  },
  {
   "cell_type": "code",
   "execution_count": 9,
   "metadata": {},
   "outputs": [
    {
     "name": "stdout",
     "output_type": "stream",
     "text": [
      "a = \n",
      "[[0. 0. 0. 0.]\n",
      " [0. 0. 0. 0.]\n",
      " [0. 0. 0. 0.]]\n",
      "b = \n",
      "[[1. 0. 0. 0. 0.]\n",
      " [0. 1. 0. 0. 0.]\n",
      " [0. 0. 1. 0. 0.]\n",
      " [0. 0. 0. 1. 0.]\n",
      " [0. 0. 0. 0. 1.]]\n",
      "c = \n",
      "[[1. 1. 1. 1. 1. 1. 1.]\n",
      " [1. 1. 1. 1. 1. 1. 1.]\n",
      " [1. 1. 1. 1. 1. 1. 1.]\n",
      " [1. 1. 1. 1. 1. 1. 1.]\n",
      " [1. 1. 1. 1. 1. 1. 1.]\n",
      " [1. 1. 1. 1. 1. 1. 1.]\n",
      " [1. 1. 1. 1. 1. 1. 1.]\n",
      " [1. 1. 1. 1. 1. 1. 1.]]\n",
      "d = \n",
      "[[1 0 0 0]\n",
      " [0 2 0 0]\n",
      " [0 0 3 0]\n",
      " [0 0 0 4]]\n"
     ]
    }
   ],
   "source": [
    "a = np.zeros((3, 4))\n",
    "b = np.eye(5)\n",
    "c = np.ones((8, 7))\n",
    "d = np.diag((1, 2, 3, 4))\n",
    "print ('a = \\n'+str(a))\n",
    "print ('b = \\n'+str(b))\n",
    "print ('c = \\n'+str(c))\n",
    "print ('d = \\n'+str(d))"
   ]
  },
  {
   "cell_type": "code",
   "execution_count": 10,
   "metadata": {},
   "outputs": [
    {
     "data": {
      "text/plain": [
       "array([1, 5, 9])"
      ]
     },
     "execution_count": 10,
     "metadata": {},
     "output_type": "execute_result"
    }
   ],
   "source": [
    "A = [[1, 2, 3], [4, 5, 6], [7, 8, 9]]\n",
    "np.diag(A)"
   ]
  },
  {
   "cell_type": "markdown",
   "metadata": {},
   "source": [
    "## array過濾器"
   ]
  },
  {
   "cell_type": "code",
   "execution_count": 11,
   "metadata": {},
   "outputs": [],
   "source": [
    "L = np.array([3, -2, -1, 5, 7, -3])"
   ]
  },
  {
   "cell_type": "markdown",
   "metadata": {},
   "source": [
    "#### 找正的?"
   ]
  },
  {
   "cell_type": "code",
   "execution_count": 12,
   "metadata": {},
   "outputs": [],
   "source": [
    "want = np.array([True, False, False, True, True, False])"
   ]
  },
  {
   "cell_type": "code",
   "execution_count": 13,
   "metadata": {},
   "outputs": [
    {
     "data": {
      "text/plain": [
       "array([3, 5, 7])"
      ]
     },
     "execution_count": 13,
     "metadata": {},
     "output_type": "execute_result"
    }
   ],
   "source": [
    "L[want]"
   ]
  },
  {
   "cell_type": "code",
   "execution_count": 14,
   "metadata": {},
   "outputs": [
    {
     "data": {
      "text/plain": [
       "array([3, 5, 7])"
      ]
     },
     "execution_count": 14,
     "metadata": {},
     "output_type": "execute_result"
    }
   ],
   "source": [
    "L[(L>0) & (L<10) & (L%2 == 1)]"
   ]
  },
  {
   "cell_type": "markdown",
   "metadata": {},
   "source": [
    "#### [練習]畫函數(ex:sinc)，標正的部分"
   ]
  },
  {
   "cell_type": "code",
   "execution_count": 15,
   "metadata": {},
   "outputs": [
    {
     "data": {
      "text/plain": [
       "[<matplotlib.lines.Line2D at 0x208ec49a0b8>]"
      ]
     },
     "execution_count": 15,
     "metadata": {},
     "output_type": "execute_result"
    },
    {
     "data": {
      "image/png": "[encoded data removed]",
      "text/plain": [
       "<Figure size 432x288 with 1 Axes>"
      ]
     },
     "metadata": {},
     "output_type": "display_data"
    }
   ],
   "source": [
    "x = np.linspace(-5, 5, 1000)\n",
    "y = np.sinc(x)\n",
    "plt.plot(x, y, lw = 7)\n",
    "plt.plot(x[y>0], y[y>0], 'o')"
   ]
  },
  {
   "cell_type": "markdown",
   "metadata": {},
   "source": [
    "## sympy?"
   ]
  },
  {
   "cell_type": "code",
   "execution_count": 2,
   "metadata": {},
   "outputs": [
    {
     "data": {
      "image/png": "[encoded data removed]",
      "text/latex": [
       "$$\\frac{5}{6}$$"
      ],
      "text/plain": [
       "5/6"
      ]
     },
     "execution_count": 2,
     "metadata": {},
     "output_type": "execute_result"
    }
   ],
   "source": [
    "import sympy as sp\n",
    "from sympy import S as s\n",
    "from sympy import N\n",
    "sp.init_printing()\n",
    "sp.Rational(1, 2) + sp.Rational(1, 3)\n",
    "s(1)/2+s(1)/3\n"
   ]
  },
  {
   "cell_type": "code",
   "execution_count": 3,
   "metadata": {},
   "outputs": [
    {
     "data": {
      "image/png": "[encoded data removed]",
      "text/latex": [
       "$$\\pi$$"
      ],
      "text/plain": [
       "π"
      ]
     },
     "execution_count": 3,
     "metadata": {},
     "output_type": "execute_result"
    }
   ],
   "source": [
    "π = sp.pi\n",
    "π"
   ]
  },
  {
   "cell_type": "code",
   "execution_count": 4,
   "metadata": {},
   "outputs": [
    {
     "data": {
      "image/png": "[encoded data removed]",
      "text/latex": [
       "$$3.1415926535897932385$$"
      ],
      "text/plain": [
       "3.1415926535897932385"
      ]
     },
     "execution_count": 4,
     "metadata": {},
     "output_type": "execute_result"
    }
   ],
   "source": [
    "N(π, 20)"
   ]
  },
  {
   "cell_type": "code",
   "execution_count": 5,
   "metadata": {},
   "outputs": [
    {
     "name": "stdout",
     "output_type": "stream",
     "text": [
      "no\n"
     ]
    }
   ],
   "source": [
    "string = str(N(π, 100))\n",
    "if '8762' in string:\n",
    "    print ('yes')\n",
    "else:\n",
    "    print('no')"
   ]
  },
  {
   "cell_type": "markdown",
   "metadata": {},
   "source": [
    "## 質數\n"
   ]
  },
  {
   "cell_type": "code",
   "execution_count": 29,
   "metadata": {},
   "outputs": [
    {
     "name": "stdout",
     "output_type": "stream",
     "text": [
      "False\n",
      "{53: 1, 179: 1}\n",
      "True True\n",
      "449\n",
      "457\n"
     ]
    }
   ],
   "source": [
    "a= 9487\n",
    "print (sp.isprime(a))\n",
    "print (sp.factorint(a))\n",
    "print (sp.isprime(53), sp.isprime(179))\n",
    "print (sp.prime(87))\n",
    "print (sp.nextprime(449))"
   ]
  },
  {
   "cell_type": "code",
   "execution_count": 33,
   "metadata": {},
   "outputs": [
    {
     "name": "stdout",
     "output_type": "stream",
     "text": [
      "twin!\n",
      "twin!\n",
      "twin!\n",
      "twin!\n"
     ]
    }
   ],
   "source": [
    "for i in range(1, 10):\n",
    "    a = sp.prime(i)\n",
    "    b = sp.prime(i+1)\n",
    "    if (b-a) == 2:\n",
    "        print(\"twin!\")"
   ]
  },
  {
   "cell_type": "markdown",
   "metadata": {},
   "source": [
    "## sympy matrix"
   ]
  },
  {
   "cell_type": "code",
   "execution_count": 7,
   "metadata": {},
   "outputs": [
    {
     "ename": "TypeError",
     "evalue": "unsupported operand type(s) for /: 'list' and 'Integer'",
     "output_type": "error",
     "traceback": [
      "\u001b[1;31m---------------------------------------------------------------------------\u001b[0m",
      "\u001b[1;31mTypeError\u001b[0m                                 Traceback (most recent call last)",
      "\u001b[1;32m<ipython-input-7-8a0e65f15cb0>\u001b[0m in \u001b[0;36m<module>\u001b[1;34m()\u001b[0m\n\u001b[1;32m----> 1\u001b[1;33m \u001b[0mA\u001b[0m \u001b[1;33m=\u001b[0m \u001b[0msp\u001b[0m\u001b[1;33m.\u001b[0m\u001b[0mMatrix\u001b[0m\u001b[1;33m(\u001b[0m\u001b[1;33m[\u001b[0m\u001b[1;33m[\u001b[0m\u001b[1;36m2\u001b[0m\u001b[1;33m,\u001b[0m \u001b[1;33m-\u001b[0m\u001b[1;36m1\u001b[0m\u001b[1;33m,\u001b[0m \u001b[1;36m3\u001b[0m\u001b[1;33m]\u001b[0m\u001b[1;33m,\u001b[0m \u001b[1;33m[\u001b[0m\u001b[1;36m0\u001b[0m\u001b[1;33m,\u001b[0m \u001b[1;36m1\u001b[0m\u001b[1;33m,\u001b[0m \u001b[1;36m2\u001b[0m\u001b[1;33m]\u001b[0m\u001b[1;33m,\u001b[0m\u001b[1;33m[\u001b[0m\u001b[1;33m-\u001b[0m\u001b[1;36m1\u001b[0m\u001b[1;33m,\u001b[0m \u001b[1;36m1\u001b[0m\u001b[1;33m,\u001b[0m \u001b[1;36m2\u001b[0m\u001b[1;33m]\u001b[0m\u001b[1;33m]\u001b[0m\u001b[1;33m/\u001b[0m\u001b[0ms\u001b[0m\u001b[1;33m(\u001b[0m\u001b[1;36m2\u001b[0m\u001b[1;33m)\u001b[0m\u001b[1;33m)\u001b[0m\u001b[1;33m\u001b[0m\u001b[0m\n\u001b[0m",
      "\u001b[1;31mTypeError\u001b[0m: unsupported operand type(s) for /: 'list' and 'Integer'"
     ]
    }
   ],
   "source": [
    "A = sp.Matrix([[2, -1, 3], [0, 1, 2],[-1, 1, 2]]/s(2))"
   ]
  },
  {
   "cell_type": "code",
   "execution_count": 38,
   "metadata": {},
   "outputs": [
    {
     "name": "stdout",
     "output_type": "stream",
     "text": [
      "5\n"
     ]
    },
    {
     "data": {
      "text/latex": [
       "$$\\left[\\begin{matrix}0 & 1 & -1\\\\- \\frac{2}{5} & \\frac{7}{5} & - \\frac{4}{5}\\\\\\frac{1}{5} & - \\frac{1}{5} & \\frac{2}{5}\\end{matrix}\\right]$$"
      ],
      "text/plain": [
       "⎡ 0     1     -1 ⎤\n",
       "⎢                ⎥\n",
       "⎢-2/5  7/5   -4/5⎥\n",
       "⎢                ⎥\n",
       "⎣1/5   -1/5  2/5 ⎦"
      ]
     },
     "execution_count": 38,
     "metadata": {},
     "output_type": "execute_result"
    }
   ],
   "source": [
    "print(A.det())\n",
    "A.inv()\n"
   ]
  },
  {
   "cell_type": "markdown",
   "metadata": {},
   "source": [
    "## sympy 變數\n",
    "\n"
   ]
  },
  {
   "cell_type": "markdown",
   "metadata": {},
   "source": [
    "第一式\n"
   ]
  },
  {
   "cell_type": "code",
   "execution_count": 44,
   "metadata": {},
   "outputs": [
    {
     "data": {
      "image/png": "[encoded data removed]",
      "text/latex": [
       "$$\\frac{610}{3}$$"
      ],
      "text/plain": [
       "610/3"
      ]
     },
     "execution_count": 44,
     "metadata": {},
     "output_type": "execute_result"
    }
   ],
   "source": [
    "x = sp.Symbol('x')\n",
    "t = x**2-3*x+2\n",
    "sp.integrate(t, (x, 0, 10))"
   ]
  },
  {
   "cell_type": "markdown",
   "metadata": {},
   "source": [
    "## Pandas"
   ]
  },
  {
   "cell_type": "code",
   "execution_count": 45,
   "metadata": {},
   "outputs": [],
   "source": [
    "# read csv file\n",
    "df = pd.read_csv(\"http://stats.moe.gov.tw/files/detail/107/107_student.csv\")\n"
   ]
  },
  {
   "cell_type": "code",
   "execution_count": 46,
   "metadata": {},
   "outputs": [
    {
     "data": {
      "text/html": [
       "<div>\n",
       "<style scoped>\n",
       "    .dataframe tbody tr th:only-of-type {\n",
       "        vertical-align: middle;\n",
       "    }\n",
       "\n",
       "    .dataframe tbody tr th {\n",
       "        vertical-align: top;\n",
       "    }\n",
       "\n",
       "    .dataframe thead th {\n",
       "        text-align: right;\n",
       "    }\n",
       "</style>\n",
       "<table border=\"1\" class=\"dataframe\">\n",
       "  <thead>\n",
       "    <tr style=\"text-align: right;\">\n",
       "      <th></th>\n",
       "      <th>學校代碼</th>\n",
       "      <th>學校名稱</th>\n",
       "      <th>日間∕進修別</th>\n",
       "      <th>等級別</th>\n",
       "      <th>一年級男生</th>\n",
       "      <th>一年級女生</th>\n",
       "      <th>二年級男生</th>\n",
       "      <th>二年級女生</th>\n",
       "      <th>三年級男生</th>\n",
       "      <th>三年級女生</th>\n",
       "      <th>...</th>\n",
       "      <th>五年級男生</th>\n",
       "      <th>五年級女生</th>\n",
       "      <th>六年級男生</th>\n",
       "      <th>六年級女生</th>\n",
       "      <th>七年級男生</th>\n",
       "      <th>七年級女生</th>\n",
       "      <th>延修生男生</th>\n",
       "      <th>延修生女生</th>\n",
       "      <th>縣市名稱</th>\n",
       "      <th>體系別</th>\n",
       "    </tr>\n",
       "  </thead>\n",
       "  <tbody>\n",
       "    <tr>\n",
       "      <th>0</th>\n",
       "      <td>1</td>\n",
       "      <td>國立政治大學</td>\n",
       "      <td>D 日</td>\n",
       "      <td>D 博士</td>\n",
       "      <td>96</td>\n",
       "      <td>85</td>\n",
       "      <td>82</td>\n",
       "      <td>78</td>\n",
       "      <td>93</td>\n",
       "      <td>59</td>\n",
       "      <td>...</td>\n",
       "      <td>71</td>\n",
       "      <td>52</td>\n",
       "      <td>58</td>\n",
       "      <td>46</td>\n",
       "      <td>74</td>\n",
       "      <td>40</td>\n",
       "      <td>-</td>\n",
       "      <td>-</td>\n",
       "      <td>30 臺北市</td>\n",
       "      <td>1 一般</td>\n",
       "    </tr>\n",
       "    <tr>\n",
       "      <th>1</th>\n",
       "      <td>1</td>\n",
       "      <td>國立政治大學</td>\n",
       "      <td>D 日</td>\n",
       "      <td>M 碩士</td>\n",
       "      <td>624</td>\n",
       "      <td>742</td>\n",
       "      <td>632</td>\n",
       "      <td>695</td>\n",
       "      <td>348</td>\n",
       "      <td>431</td>\n",
       "      <td>...</td>\n",
       "      <td>-</td>\n",
       "      <td>-</td>\n",
       "      <td>-</td>\n",
       "      <td>-</td>\n",
       "      <td>-</td>\n",
       "      <td>-</td>\n",
       "      <td>-</td>\n",
       "      <td>-</td>\n",
       "      <td>30 臺北市</td>\n",
       "      <td>1 一般</td>\n",
       "    </tr>\n",
       "    <tr>\n",
       "      <th>2</th>\n",
       "      <td>1</td>\n",
       "      <td>國立政治大學</td>\n",
       "      <td>D 日</td>\n",
       "      <td>B 學士</td>\n",
       "      <td>899</td>\n",
       "      <td>1,287</td>\n",
       "      <td>890</td>\n",
       "      <td>1,332</td>\n",
       "      <td>878</td>\n",
       "      <td>1,325</td>\n",
       "      <td>...</td>\n",
       "      <td>-</td>\n",
       "      <td>-</td>\n",
       "      <td>-</td>\n",
       "      <td>-</td>\n",
       "      <td>-</td>\n",
       "      <td>-</td>\n",
       "      <td>326</td>\n",
       "      <td>463</td>\n",
       "      <td>30 臺北市</td>\n",
       "      <td>1 一般</td>\n",
       "    </tr>\n",
       "    <tr>\n",
       "      <th>3</th>\n",
       "      <td>1</td>\n",
       "      <td>國立政治大學</td>\n",
       "      <td>N 職</td>\n",
       "      <td>M 碩士</td>\n",
       "      <td>303</td>\n",
       "      <td>248</td>\n",
       "      <td>253</td>\n",
       "      <td>259</td>\n",
       "      <td>201</td>\n",
       "      <td>210</td>\n",
       "      <td>...</td>\n",
       "      <td>53</td>\n",
       "      <td>47</td>\n",
       "      <td>-</td>\n",
       "      <td>-</td>\n",
       "      <td>-</td>\n",
       "      <td>-</td>\n",
       "      <td>-</td>\n",
       "      <td>-</td>\n",
       "      <td>30 臺北市</td>\n",
       "      <td>1 一般</td>\n",
       "    </tr>\n",
       "    <tr>\n",
       "      <th>4</th>\n",
       "      <td>2</td>\n",
       "      <td>國立清華大學</td>\n",
       "      <td>D 日</td>\n",
       "      <td>D 博士</td>\n",
       "      <td>225</td>\n",
       "      <td>99</td>\n",
       "      <td>201</td>\n",
       "      <td>71</td>\n",
       "      <td>189</td>\n",
       "      <td>73</td>\n",
       "      <td>...</td>\n",
       "      <td>158</td>\n",
       "      <td>50</td>\n",
       "      <td>112</td>\n",
       "      <td>43</td>\n",
       "      <td>168</td>\n",
       "      <td>58</td>\n",
       "      <td>-</td>\n",
       "      <td>-</td>\n",
       "      <td>18 新竹市</td>\n",
       "      <td>1 一般</td>\n",
       "    </tr>\n",
       "  </tbody>\n",
       "</table>\n",
       "<p>5 rows × 22 columns</p>\n",
       "</div>"
      ],
      "text/plain": [
       "   學校代碼    學校名稱 日間∕進修別   等級別 一年級男生  一年級女生 二年級男生  二年級女生 三年級男生  三年級女生  ...   \\\n",
       "0     1  國立政治大學    D 日  D 博士    96     85    82     78    93     59  ...    \n",
       "1     1  國立政治大學    D 日  M 碩士   624    742   632    695   348    431  ...    \n",
       "2     1  國立政治大學    D 日  B 學士   899  1,287   890  1,332   878  1,325  ...    \n",
       "3     1  國立政治大學    N 職  M 碩士   303    248   253    259   201    210  ...    \n",
       "4     2  國立清華大學    D 日  D 博士   225     99   201     71   189     73  ...    \n",
       "\n",
       "  五年級男生 五年級女生 六年級男生 六年級女生 七年級男生 七年級女生 延修生男生 延修生女生    縣市名稱   體系別  \n",
       "0    71    52    58    46    74    40     -     -  30 臺北市  1 一般  \n",
       "1     -     -     -     -     -     -     -     -  30 臺北市  1 一般  \n",
       "2     -     -     -     -     -     -   326   463  30 臺北市  1 一般  \n",
       "3    53    47     -     -     -     -     -     -  30 臺北市  1 一般  \n",
       "4   158    50   112    43   168    58     -     -  18 新竹市  1 一般  \n",
       "\n",
       "[5 rows x 22 columns]"
      ]
     },
     "execution_count": 46,
     "metadata": {},
     "output_type": "execute_result"
    }
   ],
   "source": [
    "df.head()"
   ]
  },
  {
   "cell_type": "code",
   "execution_count": 54,
   "metadata": {},
   "outputs": [
    {
     "data": {
      "text/html": [
       "<div>\n",
       "<style scoped>\n",
       "    .dataframe tbody tr th:only-of-type {\n",
       "        vertical-align: middle;\n",
       "    }\n",
       "\n",
       "    .dataframe tbody tr th {\n",
       "        vertical-align: top;\n",
       "    }\n",
       "\n",
       "    .dataframe thead th {\n",
       "        text-align: right;\n",
       "    }\n",
       "</style>\n",
       "<table border=\"1\" class=\"dataframe\">\n",
       "  <thead>\n",
       "    <tr style=\"text-align: right;\">\n",
       "      <th></th>\n",
       "      <th>一年級男生</th>\n",
       "      <th>一年級女生</th>\n",
       "    </tr>\n",
       "  </thead>\n",
       "  <tbody>\n",
       "    <tr>\n",
       "      <th>0</th>\n",
       "      <td>96</td>\n",
       "      <td>85</td>\n",
       "    </tr>\n",
       "    <tr>\n",
       "      <th>1</th>\n",
       "      <td>624</td>\n",
       "      <td>742</td>\n",
       "    </tr>\n",
       "    <tr>\n",
       "      <th>2</th>\n",
       "      <td>899</td>\n",
       "      <td>1,287</td>\n",
       "    </tr>\n",
       "    <tr>\n",
       "      <th>3</th>\n",
       "      <td>303</td>\n",
       "      <td>248</td>\n",
       "    </tr>\n",
       "    <tr>\n",
       "      <th>4</th>\n",
       "      <td>225</td>\n",
       "      <td>99</td>\n",
       "    </tr>\n",
       "    <tr>\n",
       "      <th>5</th>\n",
       "      <td>1,315</td>\n",
       "      <td>719</td>\n",
       "    </tr>\n",
       "    <tr>\n",
       "      <th>6</th>\n",
       "      <td>1,089</td>\n",
       "      <td>865</td>\n",
       "    </tr>\n",
       "    <tr>\n",
       "      <th>7</th>\n",
       "      <td>22</td>\n",
       "      <td>16</td>\n",
       "    </tr>\n",
       "    <tr>\n",
       "      <th>8</th>\n",
       "      <td>186</td>\n",
       "      <td>238</td>\n",
       "    </tr>\n",
       "    <tr>\n",
       "      <th>9</th>\n",
       "      <td>408</td>\n",
       "      <td>196</td>\n",
       "    </tr>\n",
       "    <tr>\n",
       "      <th>10</th>\n",
       "      <td>2,445</td>\n",
       "      <td>1,552</td>\n",
       "    </tr>\n",
       "    <tr>\n",
       "      <th>11</th>\n",
       "      <td>2,126</td>\n",
       "      <td>1,525</td>\n",
       "    </tr>\n",
       "    <tr>\n",
       "      <th>12</th>\n",
       "      <td>321</td>\n",
       "      <td>238</td>\n",
       "    </tr>\n",
       "    <tr>\n",
       "      <th>13</th>\n",
       "      <td>109</td>\n",
       "      <td>116</td>\n",
       "    </tr>\n",
       "    <tr>\n",
       "      <th>14</th>\n",
       "      <td>614</td>\n",
       "      <td>796</td>\n",
       "    </tr>\n",
       "    <tr>\n",
       "      <th>15</th>\n",
       "      <td>846</td>\n",
       "      <td>1,066</td>\n",
       "    </tr>\n",
       "    <tr>\n",
       "      <th>16</th>\n",
       "      <td>196</td>\n",
       "      <td>450</td>\n",
       "    </tr>\n",
       "    <tr>\n",
       "      <th>17</th>\n",
       "      <td>244</td>\n",
       "      <td>110</td>\n",
       "    </tr>\n",
       "    <tr>\n",
       "      <th>18</th>\n",
       "      <td>1,849</td>\n",
       "      <td>1,072</td>\n",
       "    </tr>\n",
       "    <tr>\n",
       "      <th>19</th>\n",
       "      <td>1,672</td>\n",
       "      <td>1,010</td>\n",
       "    </tr>\n",
       "    <tr>\n",
       "      <th>20</th>\n",
       "      <td>287</td>\n",
       "      <td>179</td>\n",
       "    </tr>\n",
       "    <tr>\n",
       "      <th>21</th>\n",
       "      <td>103</td>\n",
       "      <td>52</td>\n",
       "    </tr>\n",
       "    <tr>\n",
       "      <th>22</th>\n",
       "      <td>879</td>\n",
       "      <td>564</td>\n",
       "    </tr>\n",
       "    <tr>\n",
       "      <th>23</th>\n",
       "      <td>1,087</td>\n",
       "      <td>799</td>\n",
       "    </tr>\n",
       "    <tr>\n",
       "      <th>24</th>\n",
       "      <td>346</td>\n",
       "      <td>193</td>\n",
       "    </tr>\n",
       "    <tr>\n",
       "      <th>25</th>\n",
       "      <td>91</td>\n",
       "      <td>129</td>\n",
       "    </tr>\n",
       "    <tr>\n",
       "      <th>26</th>\n",
       "      <td>297</td>\n",
       "      <td>90</td>\n",
       "    </tr>\n",
       "    <tr>\n",
       "      <th>27</th>\n",
       "      <td>1,450</td>\n",
       "      <td>671</td>\n",
       "    </tr>\n",
       "    <tr>\n",
       "      <th>28</th>\n",
       "      <td>881</td>\n",
       "      <td>417</td>\n",
       "    </tr>\n",
       "    <tr>\n",
       "      <th>29</th>\n",
       "      <td>344</td>\n",
       "      <td>206</td>\n",
       "    </tr>\n",
       "    <tr>\n",
       "      <th>...</th>\n",
       "      <td>...</td>\n",
       "      <td>...</td>\n",
       "    </tr>\n",
       "    <tr>\n",
       "      <th>782</th>\n",
       "      <td>13</td>\n",
       "      <td>17</td>\n",
       "    </tr>\n",
       "    <tr>\n",
       "      <th>783</th>\n",
       "      <td>-</td>\n",
       "      <td>-</td>\n",
       "    </tr>\n",
       "    <tr>\n",
       "      <th>784</th>\n",
       "      <td>10</td>\n",
       "      <td>20</td>\n",
       "    </tr>\n",
       "    <tr>\n",
       "      <th>785</th>\n",
       "      <td>5</td>\n",
       "      <td>6</td>\n",
       "    </tr>\n",
       "    <tr>\n",
       "      <th>786</th>\n",
       "      <td>48</td>\n",
       "      <td>111</td>\n",
       "    </tr>\n",
       "    <tr>\n",
       "      <th>787</th>\n",
       "      <td>2</td>\n",
       "      <td>1</td>\n",
       "    </tr>\n",
       "    <tr>\n",
       "      <th>788</th>\n",
       "      <td>17</td>\n",
       "      <td>43</td>\n",
       "    </tr>\n",
       "    <tr>\n",
       "      <th>789</th>\n",
       "      <td>4</td>\n",
       "      <td>11</td>\n",
       "    </tr>\n",
       "    <tr>\n",
       "      <th>790</th>\n",
       "      <td>14</td>\n",
       "      <td>13</td>\n",
       "    </tr>\n",
       "    <tr>\n",
       "      <th>791</th>\n",
       "      <td>95</td>\n",
       "      <td>686</td>\n",
       "    </tr>\n",
       "    <tr>\n",
       "      <th>792</th>\n",
       "      <td>111</td>\n",
       "      <td>105</td>\n",
       "    </tr>\n",
       "    <tr>\n",
       "      <th>793</th>\n",
       "      <td>238</td>\n",
       "      <td>905</td>\n",
       "    </tr>\n",
       "    <tr>\n",
       "      <th>794</th>\n",
       "      <td>138</td>\n",
       "      <td>94</td>\n",
       "    </tr>\n",
       "    <tr>\n",
       "      <th>795</th>\n",
       "      <td>339</td>\n",
       "      <td>1,150</td>\n",
       "    </tr>\n",
       "    <tr>\n",
       "      <th>796</th>\n",
       "      <td>145</td>\n",
       "      <td>79</td>\n",
       "    </tr>\n",
       "    <tr>\n",
       "      <th>797</th>\n",
       "      <td>13</td>\n",
       "      <td>23</td>\n",
       "    </tr>\n",
       "    <tr>\n",
       "      <th>798</th>\n",
       "      <td>171</td>\n",
       "      <td>580</td>\n",
       "    </tr>\n",
       "    <tr>\n",
       "      <th>799</th>\n",
       "      <td>57</td>\n",
       "      <td>80</td>\n",
       "    </tr>\n",
       "    <tr>\n",
       "      <th>800</th>\n",
       "      <td>100</td>\n",
       "      <td>835</td>\n",
       "    </tr>\n",
       "    <tr>\n",
       "      <th>801</th>\n",
       "      <td>1</td>\n",
       "      <td>61</td>\n",
       "    </tr>\n",
       "    <tr>\n",
       "      <th>802</th>\n",
       "      <td>97</td>\n",
       "      <td>706</td>\n",
       "    </tr>\n",
       "    <tr>\n",
       "      <th>803</th>\n",
       "      <td>41</td>\n",
       "      <td>351</td>\n",
       "    </tr>\n",
       "    <tr>\n",
       "      <th>804</th>\n",
       "      <td>89</td>\n",
       "      <td>550</td>\n",
       "    </tr>\n",
       "    <tr>\n",
       "      <th>805</th>\n",
       "      <td>85</td>\n",
       "      <td>358</td>\n",
       "    </tr>\n",
       "    <tr>\n",
       "      <th>806</th>\n",
       "      <td>136</td>\n",
       "      <td>1,108</td>\n",
       "    </tr>\n",
       "    <tr>\n",
       "      <th>807</th>\n",
       "      <td>19</td>\n",
       "      <td>32</td>\n",
       "    </tr>\n",
       "    <tr>\n",
       "      <th>808</th>\n",
       "      <td>14</td>\n",
       "      <td>20</td>\n",
       "    </tr>\n",
       "    <tr>\n",
       "      <th>809</th>\n",
       "      <td>124</td>\n",
       "      <td>252</td>\n",
       "    </tr>\n",
       "    <tr>\n",
       "      <th>810</th>\n",
       "      <td>566</td>\n",
       "      <td>725</td>\n",
       "    </tr>\n",
       "    <tr>\n",
       "      <th>811</th>\n",
       "      <td>98</td>\n",
       "      <td>271</td>\n",
       "    </tr>\n",
       "  </tbody>\n",
       "</table>\n",
       "<p>812 rows × 2 columns</p>\n",
       "</div>"
      ],
      "text/plain": [
       "     一年級男生  一年級女生\n",
       "0       96     85\n",
       "1      624    742\n",
       "2      899  1,287\n",
       "3      303    248\n",
       "4      225     99\n",
       "5    1,315    719\n",
       "6    1,089    865\n",
       "7       22     16\n",
       "8      186    238\n",
       "9      408    196\n",
       "10   2,445  1,552\n",
       "11   2,126  1,525\n",
       "12     321    238\n",
       "13     109    116\n",
       "14     614    796\n",
       "15     846  1,066\n",
       "16     196    450\n",
       "17     244    110\n",
       "18   1,849  1,072\n",
       "19   1,672  1,010\n",
       "20     287    179\n",
       "21     103     52\n",
       "22     879    564\n",
       "23   1,087    799\n",
       "24     346    193\n",
       "25      91    129\n",
       "26     297     90\n",
       "27   1,450    671\n",
       "28     881    417\n",
       "29     344    206\n",
       "..     ...    ...\n",
       "782     13     17\n",
       "783      -      -\n",
       "784     10     20\n",
       "785      5      6\n",
       "786     48    111\n",
       "787      2      1\n",
       "788     17     43\n",
       "789      4     11\n",
       "790     14     13\n",
       "791     95    686\n",
       "792    111    105\n",
       "793    238    905\n",
       "794    138     94\n",
       "795    339  1,150\n",
       "796    145     79\n",
       "797     13     23\n",
       "798    171    580\n",
       "799     57     80\n",
       "800    100    835\n",
       "801      1     61\n",
       "802     97    706\n",
       "803     41    351\n",
       "804     89    550\n",
       "805     85    358\n",
       "806    136  1,108\n",
       "807     19     32\n",
       "808     14     20\n",
       "809    124    252\n",
       "810    566    725\n",
       "811     98    271\n",
       "\n",
       "[812 rows x 2 columns]"
      ]
     },
     "execution_count": 54,
     "metadata": {},
     "output_type": "execute_result"
    }
   ],
   "source": [
    "df[[\"一年級男生\", \"一年級女生\"]]"
   ]
  },
  {
   "cell_type": "code",
   "execution_count": 55,
   "metadata": {},
   "outputs": [
    {
     "data": {
      "text/plain": [
       "0         85\n",
       "1        742\n",
       "2      1,287\n",
       "3        248\n",
       "4         99\n",
       "5        719\n",
       "6        865\n",
       "7         16\n",
       "8        238\n",
       "9        196\n",
       "10     1,552\n",
       "11     1,525\n",
       "12       238\n",
       "13       116\n",
       "14       796\n",
       "15     1,066\n",
       "16       450\n",
       "17       110\n",
       "18     1,072\n",
       "19     1,010\n",
       "20       179\n",
       "21        52\n",
       "22       564\n",
       "23       799\n",
       "24       193\n",
       "25       129\n",
       "26        90\n",
       "27       671\n",
       "28       417\n",
       "29       206\n",
       "       ...  \n",
       "782       17\n",
       "783        -\n",
       "784       20\n",
       "785        6\n",
       "786      111\n",
       "787        1\n",
       "788       43\n",
       "789       11\n",
       "790       13\n",
       "791      686\n",
       "792      105\n",
       "793      905\n",
       "794       94\n",
       "795    1,150\n",
       "796       79\n",
       "797       23\n",
       "798      580\n",
       "799       80\n",
       "800      835\n",
       "801       61\n",
       "802      706\n",
       "803      351\n",
       "804      550\n",
       "805      358\n",
       "806    1,108\n",
       "807       32\n",
       "808       20\n",
       "809      252\n",
       "810      725\n",
       "811      271\n",
       "Name: 一年級女生, Length: 812, dtype: object"
      ]
     },
     "execution_count": 55,
     "metadata": {},
     "output_type": "execute_result"
    }
   ],
   "source": [
    "df.一年級女生"
   ]
  },
  {
   "cell_type": "code",
   "execution_count": null,
   "metadata": {},
   "outputs": [],
   "source": []
  }
 ],
 "metadata": {
  "kernelspec": {
   "display_name": "Python 3",
   "language": "python",
   "name": "python3"
  },
  "language_info": {
   "codemirror_mode": {
    "name": "ipython",
    "version": 3
   },
   "file_extension": ".py",
   "mimetype": "text/x-python",
   "name": "python",
   "nbconvert_exporter": "python",
   "pygments_lexer": "ipython3",
   "version": "3.6.5"
  }
 },
 "nbformat": 4,
 "nbformat_minor": 2
}
