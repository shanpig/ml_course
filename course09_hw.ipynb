<<<<<<< HEAD
{
 "cells": [
  {
   "cell_type": "markdown",
   "metadata": {},
   "source": [
    "## CNN model"
   ]
  },
  {
   "cell_type": "code",
   "execution_count": 24,
   "metadata": {},
   "outputs": [
    {
     "name": "stdout",
     "output_type": "stream",
     "text": [
      "env: KERAS_BACKEND=tensorflow\n"
     ]
    },
    {
     "name": "stderr",
     "output_type": "stream",
     "text": [
      "Using TensorFlow backend.\n"
     ]
    }
   ],
   "source": [
    "%matplotlib inline\n",
    "%env KERAS_BACKEND = tensorflow\n",
    "import matplotlib.pyplot as plt\n",
    "import numpy as np\n",
    "import pandas as pd\n",
    "\n",
    "import keras\n",
    "from keras.datasets import mnist\n",
    "from keras.layers import Activation, Conv2D, Dropout, Add, Flatten, Dense, Input, MaxPooling2D\n",
    "from keras.optimizers import adam\n",
    "from keras.models import Sequential\n",
    "from keras.utils import to_categorical"
   ]
  },
  {
   "cell_type": "code",
   "execution_count": 3,
   "metadata": {},
   "outputs": [],
   "source": [
    "(x_train, y_train), (x_test, y_test) = mnist.load_data()"
   ]
  },
  {
   "cell_type": "markdown",
   "metadata": {},
   "source": [
    "### 基本 loading data"
   ]
  },
  {
   "cell_type": "code",
   "execution_count": 25,
   "metadata": {},
   "outputs": [
    {
     "name": "stdout",
     "output_type": "stream",
     "text": [
      "(60000, 28, 28, 1) (60000, 10) (10000, 28, 28, 1) (10000, 10)\n"
     ]
    }
   ],
   "source": [
    "(x_train, y_train), (x_test, y_test) = mnist.load_data()\n",
    "\n",
    "x_train = x_train/255\n",
    "x_test = x_test/255\n",
    "\n",
    "y_train = to_categorical(y_train, 10)\n",
    "y_test = to_categorical(y_test, 10)\n",
    "\n",
    "x_train = x_train.reshape(60000, 28, 28, 1)\n",
    "x_test = x_test.reshape(10000, 28, 28, 1)\n",
    "\n",
    "print (x_train.shape, y_train.shape, x_test.shape, y_test.shape)"
   ]
  },
  {
   "cell_type": "markdown",
   "metadata": {},
   "source": [
    "   ### 簡單單層 CNN架構，配上 maxpooling和 Dropout"
   ]
  },
  {
   "cell_type": "code",
   "execution_count": 26,
   "metadata": {},
   "outputs": [],
   "source": [
    "model = Sequential()\n",
    "\n",
    "model.add(Conv2D(filters=10,kernel_size=4, padding='same', input_shape=(28, 28, 1), \\\n",
    "                 kernel_initializer='random_uniform', bias_initializer='zeros', activation='relu'))\n",
    "model.add(MaxPooling2D(pool_size=3, strides=1, padding='same'))\n",
    "model.add(Dropout(rate=0.1))\n",
    "\n",
    "model.add(Flatten())\n",
    "\n",
    "model.add(Dense(units=10, activation='relu'))\n"
   ]
  },
  {
   "cell_type": "code",
   "execution_count": 27,
   "metadata": {},
   "outputs": [],
   "source": [
    "model.compile(loss='mse', metrics=['acc'], optimizer=adam())"
   ]
  },
  {
   "cell_type": "markdown",
   "metadata": {},
   "source": [
    "### 存取初始 weights以進行多次調參"
   ]
  },
  {
   "cell_type": "code",
   "execution_count": 28,
   "metadata": {},
   "outputs": [],
   "source": [
    "model_weight = model.get_weights()"
   ]
  },
  {
   "cell_type": "code",
   "execution_count": 5,
   "metadata": {},
   "outputs": [
    {
     "name": "stdout",
     "output_type": "stream",
     "text": [
      "_________________________________________________________________\n",
      "Layer (type)                 Output Shape              Param #   \n",
      "=================================================================\n",
      "conv2d_5 (Conv2D)            (None, 28, 28, 10)        170       \n",
      "_________________________________________________________________\n",
      "max_pooling2d_5 (MaxPooling2 (None, 28, 28, 10)        0         \n",
      "_________________________________________________________________\n",
      "dropout_5 (Dropout)          (None, 28, 28, 10)        0         \n",
      "_________________________________________________________________\n",
      "flatten_4 (Flatten)          (None, 7840)              0         \n",
      "_________________________________________________________________\n",
      "dense_5 (Dense)              (None, 10)                78410     \n",
      "=================================================================\n",
      "Total params: 78,580\n",
      "Trainable params: 78,580\n",
      "Non-trainable params: 0\n",
      "_________________________________________________________________\n"
     ]
    }
   ],
   "source": [
    "print (x_train.shape, y_train.shape, x_test.shape, y_test.shape)"
   ]
  },
  {
   "cell_type": "code",
   "execution_count": 6,
   "metadata": {},
   "outputs": [],
   "source": [
    "x_train = x_train.reshape(60000, 28, 28, 1)\n",
    "x_test = x_test.reshape(10000, 28, 28, 1)"
   ]
  },
  {
   "cell_type": "code",
   "execution_count": 7,
   "metadata": {},
   "outputs": [
    {
     "name": "stdout",
     "output_type": "stream",
     "text": [
      "Train on 48000 samples, validate on 12000 samples\n",
      "Epoch 1/20\n",
      "48000/48000 [==============================] - 1s 22us/step - loss: 0.0215 - acc: 0.8564 - val_loss: 0.0162 - val_acc: 0.8897\n",
      "Epoch 2/20\n",
      "48000/48000 [==============================] - 1s 25us/step - loss: 0.0160 - acc: 0.8851 - val_loss: 0.0150 - val_acc: 0.8921\n",
      "Epoch 3/20\n",
      "48000/48000 [==============================] - 1s 23us/step - loss: 0.0152 - acc: 0.8882 - val_loss: 0.0144 - val_acc: 0.8938\n",
      "Epoch 4/20\n",
      "48000/48000 [==============================] - 1s 30us/step - loss: 0.0147 - acc: 0.8898 - val_loss: 0.0143 - val_acc: 0.8943\n",
      "Epoch 5/20\n",
      "48000/48000 [==============================] - 1s 28us/step - loss: 0.0145 - acc: 0.8904 - val_loss: 0.0139 - val_acc: 0.8944\n",
      "Epoch 6/20\n",
      "48000/48000 [==============================] - 1s 22us/step - loss: 0.0143 - acc: 0.8914 - val_loss: 0.0139 - val_acc: 0.8958\n",
      "Epoch 7/20\n",
      "48000/48000 [==============================] - 1s 24us/step - loss: 0.0141 - acc: 0.8923 - val_loss: 0.0139 - val_acc: 0.8952\n",
      "Epoch 8/20\n",
      "48000/48000 [==============================] - 1s 22us/step - loss: 0.0140 - acc: 0.8923 - val_loss: 0.0137 - val_acc: 0.8962\n",
      "Epoch 9/20\n",
      "48000/48000 [==============================] - 1s 22us/step - loss: 0.0139 - acc: 0.8933 - val_loss: 0.0139 - val_acc: 0.8950\n",
      "Epoch 10/20\n",
      "48000/48000 [==============================] - 1s 25us/step - loss: 0.0138 - acc: 0.8932 - val_loss: 0.0136 - val_acc: 0.8955\n",
      "Epoch 11/20\n",
      "48000/48000 [==============================] - 1s 25us/step - loss: 0.0137 - acc: 0.8939 - val_loss: 0.0139 - val_acc: 0.8944\n",
      "Epoch 12/20\n",
      "48000/48000 [==============================] - 1s 25us/step - loss: 0.0136 - acc: 0.8942 - val_loss: 0.0137 - val_acc: 0.8950\n",
      "Epoch 13/20\n",
      "48000/48000 [==============================] - 1s 25us/step - loss: 0.0135 - acc: 0.8945 - val_loss: 0.0140 - val_acc: 0.8948\n",
      "Epoch 14/20\n",
      "48000/48000 [==============================] - 1s 22us/step - loss: 0.0134 - acc: 0.8945 - val_loss: 0.0136 - val_acc: 0.8958\n",
      "Epoch 15/20\n",
      "48000/48000 [==============================] - 1s 26us/step - loss: 0.0134 - acc: 0.8946 - val_loss: 0.0136 - val_acc: 0.8958\n",
      "Epoch 16/20\n",
      "48000/48000 [==============================] - 1s 24us/step - loss: 0.0134 - acc: 0.8949 - val_loss: 0.0137 - val_acc: 0.8955\n",
      "Epoch 17/20\n",
      "48000/48000 [==============================] - 1s 25us/step - loss: 0.0133 - acc: 0.8953 - val_loss: 0.0138 - val_acc: 0.8952\n",
      "Epoch 18/20\n",
      "48000/48000 [==============================] - 1s 23us/step - loss: 0.0133 - acc: 0.8955 - val_loss: 0.0136 - val_acc: 0.8961\n",
      "Epoch 19/20\n",
      "48000/48000 [==============================] - 1s 24us/step - loss: 0.0133 - acc: 0.8952 - val_loss: 0.0137 - val_acc: 0.8957\n",
      "Epoch 20/20\n",
      "48000/48000 [==============================] - 1s 23us/step - loss: 0.0132 - acc: 0.8956 - val_loss: 0.0136 - val_acc: 0.8959\n"
     ]
    }
   ],
   "source": [
    "model.set_weights(model_weight)\n",
    "model_his = model.fit(x_train, y_train, batch_size=128, epochs=20, shuffle=True, validation_split=0.2)"
   ]
  },
  {
   "cell_type": "markdown",
   "metadata": {},
   "source": [
    "### 經測試較為準確之 model layout，兩層 CNN 及兩層 NN"
   ]
  },
  {
   "cell_type": "code",
   "execution_count": 31,
   "metadata": {},
   "outputs": [],
   "source": [
    "model2 = Sequential()\n",
    "\n",
    "model2.add(Conv2D(filters=10,kernel_size=4, padding='same', input_shape=(28, 28, 1), \\\n",
    "                  kernel_initializer='random_uniform', bias_initializer='zeros', activation='relu'))\n",
    "model2.add(MaxPooling2D(pool_size=3, strides=1, padding='same'))\n",
    "model2.add(Dropout(rate=0.1))\n",
    "model2.add(Conv2D(filters=20,kernel_size=4, padding='same', input_shape=(28, 28, 1), \\\n",
    "                  kernel_initializer='random_uniform', bias_initializer='zeros', activation='relu'))\n",
    "model2.add(MaxPooling2D(pool_size=2, strides=1, padding='same'))\n",
    "model2.add(Dropout(rate=0.1))\n",
    "model2.add(Flatten())\n",
    "model2.add(Dense(units=10, activation='relu', kernel_initializer='random_uniform', bias_initializer='zeros'))\n",
    "model2.add(Dense(units=10, activation='relu'))\n"
   ]
  },
  {
   "cell_type": "markdown",
   "metadata": {},
   "source": [
    "### 儲存初始參數"
   ]
  },
  {
   "cell_type": "code",
   "execution_count": 10,
   "metadata": {},
   "outputs": [],
   "source": [
    "model.compile(loss='categorical_crossentropy', metrics=['acc'], optimizer=adam())"
   ]
  },
  {
   "cell_type": "code",
   "execution_count": 33,
   "metadata": {},
   "outputs": [],
   "source": [
    "model2.compile(loss='mse', metrics=['acc'], optimizer=adam())"
   ]
  },
  {
   "cell_type": "code",
   "execution_count": 34,
   "metadata": {},
   "outputs": [
    {
     "name": "stdout",
     "output_type": "stream",
     "text": [
      "_________________________________________________________________\n",
      "Layer (type)                 Output Shape              Param #   \n",
      "=================================================================\n",
      "conv2d_6 (Conv2D)            (None, 28, 28, 10)        170       \n",
      "_________________________________________________________________\n",
      "max_pooling2d_6 (MaxPooling2 (None, 28, 28, 10)        0         \n",
      "_________________________________________________________________\n",
      "dropout_6 (Dropout)          (None, 28, 28, 10)        0         \n",
      "_________________________________________________________________\n",
      "conv2d_7 (Conv2D)            (None, 28, 28, 20)        3220      \n",
      "_________________________________________________________________\n",
      "max_pooling2d_7 (MaxPooling2 (None, 28, 28, 20)        0         \n",
      "_________________________________________________________________\n",
      "dropout_7 (Dropout)          (None, 28, 28, 20)        0         \n",
      "_________________________________________________________________\n",
      "flatten_5 (Flatten)          (None, 15680)             0         \n",
      "_________________________________________________________________\n",
      "dense_6 (Dense)              (None, 10)                156810    \n",
      "_________________________________________________________________\n",
      "dense_7 (Dense)              (None, 10)                110       \n",
      "=================================================================\n",
      "Total params: 160,310\n",
      "Trainable params: 160,310\n",
      "Non-trainable params: 0\n",
      "_________________________________________________________________\n"
     ]
    }
   ],
   "source": [
    "model2.summary()"
   ]
  },
  {
   "cell_type": "code",
   "execution_count": 35,
   "metadata": {},
   "outputs": [],
   "source": [
    "model2.set_weights(model2_weight)"
   ]
  },
  {
   "cell_type": "code",
   "execution_count": 42,
   "metadata": {},
   "outputs": [
    {
     "name": "stdout",
     "output_type": "stream",
     "text": [
      "Train on 48000 samples, validate on 12000 samples\n",
      "Epoch 1/20\n",
      "48000/48000 [==============================] - 4s 87us/step - loss: 0.0180 - acc: 0.9166 - val_loss: 0.0074 - val_acc: 0.9748\n",
      "Epoch 2/20\n",
      "48000/48000 [==============================] - 4s 75us/step - loss: 0.0073 - acc: 0.9764 - val_loss: 0.0063 - val_acc: 0.9818\n",
      "Epoch 3/20\n",
      "48000/48000 [==============================] - 4s 86us/step - loss: 0.0059 - acc: 0.9820 - val_loss: 0.0053 - val_acc: 0.9839\n",
      "Epoch 4/20\n",
      "48000/48000 [==============================] - 4s 88us/step - loss: 0.0051 - acc: 0.9850 - val_loss: 0.0047 - val_acc: 0.9857\n",
      "Epoch 5/20\n",
      "48000/48000 [==============================] - 4s 85us/step - loss: 0.0047 - acc: 0.9861 - val_loss: 0.0046 - val_acc: 0.9853\n",
      "Epoch 6/20\n",
      "48000/48000 [==============================] - 4s 79us/step - loss: 0.0043 - acc: 0.9877 - val_loss: 0.0042 - val_acc: 0.9871\n",
      "Epoch 7/20\n",
      "48000/48000 [==============================] - 4s 85us/step - loss: 0.0040 - acc: 0.9887 - val_loss: 0.0049 - val_acc: 0.9843\n",
      "Epoch 8/20\n",
      "48000/48000 [==============================] - 5s 99us/step - loss: 0.0039 - acc: 0.9899 - val_loss: 0.0040 - val_acc: 0.9863\n",
      "Epoch 9/20\n",
      "48000/48000 [==============================] - 4s 88us/step - loss: 0.0036 - acc: 0.9904 - val_loss: 0.0040 - val_acc: 0.9863\n",
      "Epoch 10/20\n",
      "48000/48000 [==============================] - 4s 86us/step - loss: 0.0036 - acc: 0.9908 - val_loss: 0.0041 - val_acc: 0.9863\n",
      "Epoch 11/20\n",
      "48000/48000 [==============================] - 4s 87us/step - loss: 0.0033 - acc: 0.9913 - val_loss: 0.0039 - val_acc: 0.9863\n",
      "Epoch 12/20\n",
      "48000/48000 [==============================] - 4s 84us/step - loss: 0.0033 - acc: 0.9918 - val_loss: 0.0043 - val_acc: 0.9853\n",
      "Epoch 13/20\n",
      "48000/48000 [==============================] - 4s 77us/step - loss: 0.0032 - acc: 0.9920 - val_loss: 0.0041 - val_acc: 0.9862\n",
      "Epoch 14/20\n",
      "48000/48000 [==============================] - 2s 46us/step - loss: 0.0031 - acc: 0.9923 - val_loss: 0.0037 - val_acc: 0.9870\n",
      "Epoch 15/20\n",
      "48000/48000 [==============================] - 2s 48us/step - loss: 0.0030 - acc: 0.9929 - val_loss: 0.0039 - val_acc: 0.9859\n",
      "Epoch 16/20\n",
      "48000/48000 [==============================] - 2s 46us/step - loss: 0.0029 - acc: 0.9928 - val_loss: 0.0038 - val_acc: 0.9868\n",
      "Epoch 17/20\n",
      "48000/48000 [==============================] - 4s 74us/step - loss: 0.0028 - acc: 0.9931 - val_loss: 0.0036 - val_acc: 0.9868\n",
      "Epoch 18/20\n",
      "48000/48000 [==============================] - 4s 73us/step - loss: 0.0027 - acc: 0.9934 - val_loss: 0.0038 - val_acc: 0.9870\n",
      "Epoch 19/20\n",
      "48000/48000 [==============================] - 3s 58us/step - loss: 0.0027 - acc: 0.9936 - val_loss: 0.0038 - val_acc: 0.9858\n",
      "Epoch 20/20\n",
      "48000/48000 [==============================] - 7s 150us/step - loss: 0.0027 - acc: 0.9932 - val_loss: 0.0034 - val_acc: 0.9878\n"
     ]
    }
   ],
   "source": [
    "model2.set_weights(model2_weight)\n",
    "model2_his = model2.fit(x_train, y_train, batch_size=100, epochs=20, shuffle=True, validation_split=0.2)"
   ]
  },
  {
   "cell_type": "markdown",
   "metadata": {},
   "source": [
    "<h1 style=\"background-color:lightblue; width:100%; height:200%; color:tomato; text-align:center\"><br>結果<br></h1>"
   ]
  },
  {
   "cell_type": "code",
   "execution_count": 46,
   "metadata": {},
   "outputs": [
    {
     "name": "stdout",
     "output_type": "stream",
     "text": [
      "10000/10000 [==============================] - 0s 19us/step\n"
     ]
    },
    {
     "data": {
      "text/plain": [
       "[0.01425233027562499, 0.8888]"
      ]
     },
     "execution_count": 46,
     "metadata": {},
     "output_type": "execute_result"
    }
   ],
   "source": [
    "model.evaluate(x_test, y_test)"
   ]
  },
  {
   "cell_type": "code",
   "execution_count": 47,
   "metadata": {},
   "outputs": [
    {
     "name": "stdout",
     "output_type": "stream",
     "text": [
      "10000/10000 [==============================] - 0s 27us/step\n"
     ]
    },
    {
     "data": {
      "text/plain": [
       "[0.0034597399248741567, 0.9884]"
      ]
     },
     "execution_count": 47,
     "metadata": {},
     "output_type": "execute_result"
    }
   ],
   "source": [
    "model2.evaluate(x_test, y_test)"
   ]
  },
  {
   "cell_type": "code",
   "execution_count": 48,
   "metadata": {},
   "outputs": [
    {
     "data": {
      "text/plain": [
       "<matplotlib.legend.Legend at 0x7ffa849abef0>"
      ]
     },
     "execution_count": 48,
     "metadata": {},
     "output_type": "execute_result"
    },
    {
     "data": {
      "image/png": "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\n",
      "text/plain": [
       "<matplotlib.figure.Figure at 0x7ffa84a46f60>"
      ]
     },
     "metadata": {
      "needs_background": "light"
     },
     "output_type": "display_data"
    }
   ],
   "source": [
    "plt.plot(model.history.history['acc'], c='b')\n",
    "plt.plot(model2.history.history['acc'], c='g')\n",
    "plt.legend([\"model\", \"model2\"], loc='center right')"
   ]
  },
  {
   "cell_type": "code",
   "execution_count": null,
   "metadata": {},
   "outputs": [],
   "source": []
  }
 ],
 "metadata": {
  "kernelspec": {
   "display_name": "Python 3",
   "language": "python",
   "name": "python3"
  },
  "language_info": {
   "codemirror_mode": {
    "name": "ipython",
    "version": 3
   },
   "file_extension": ".py",
   "mimetype": "text/x-python",
   "name": "python",
   "nbconvert_exporter": "python",
   "pygments_lexer": "ipython3",
   "version": "3.6.0"
  }
 },
 "nbformat": 4,
 "nbformat_minor": 2
}
=======
{
 "cells": [
  {
   "cell_type": "markdown",
   "metadata": {},
   "source": [
    "## CNN model"
   ]
  },
  {
   "cell_type": "code",
   "execution_count": 24,
   "metadata": {},
   "outputs": [
    {
     "name": "stdout",
     "output_type": "stream",
     "text": [
      "env: KERAS_BACKEND=tensorflow\n"
     ]
    },
    {
     "name": "stderr",
     "output_type": "stream",
     "text": [
      "Using TensorFlow backend.\n"
     ]
    }
   ],
   "source": [
    "%matplotlib inline\n",
    "%env KERAS_BACKEND = tensorflow\n",
    "import matplotlib.pyplot as plt\n",
    "import numpy as np\n",
    "import pandas as pd\n",
    "\n",
    "import keras\n",
    "from keras.datasets import mnist\n",
    "from keras.layers import Activation, Conv2D, Dropout, Add, Flatten, Dense, Input, MaxPooling2D\n",
    "from keras.optimizers import adam\n",
    "from keras.models import Sequential\n",
    "from keras.utils import to_categorical"
   ]
  },
  {
   "cell_type": "code",
   "execution_count": 3,
   "metadata": {},
   "outputs": [],
   "source": [
    "(x_train, y_train), (x_test, y_test) = mnist.load_data()"
   ]
  },
  {
   "cell_type": "markdown",
   "metadata": {},
   "source": [
    "### 基本 loading data"
   ]
  },
  {
   "cell_type": "code",
   "execution_count": 25,
   "metadata": {},
   "outputs": [
    {
     "name": "stdout",
     "output_type": "stream",
     "text": [
      "(60000, 28, 28, 1) (60000, 10) (10000, 28, 28, 1) (10000, 10)\n"
     ]
    }
   ],
   "source": [
    "(x_train, y_train), (x_test, y_test) = mnist.load_data()\n",
    "\n",
    "x_train = x_train/255\n",
    "x_test = x_test/255\n",
    "\n",
    "y_train = to_categorical(y_train, 10)\n",
    "y_test = to_categorical(y_test, 10)\n",
    "\n",
    "x_train = x_train.reshape(60000, 28, 28, 1)\n",
    "x_test = x_test.reshape(10000, 28, 28, 1)\n",
    "\n",
    "print (x_train.shape, y_train.shape, x_test.shape, y_test.shape)"
   ]
  },
  {
   "cell_type": "markdown",
   "metadata": {},
   "source": [
    "   ### 簡單單層 CNN架構，配上 maxpooling和 Dropout"
   ]
  },
  {
   "cell_type": "code",
   "execution_count": 26,
   "metadata": {},
   "outputs": [],
   "source": [
    "model = Sequential()\n",
    "\n",
    "model.add(Conv2D(filters=10,kernel_size=4, padding='same', input_shape=(28, 28, 1), \\\n",
    "                 kernel_initializer='random_uniform', bias_initializer='zeros', activation='relu'))\n",
    "model.add(MaxPooling2D(pool_size=3, strides=1, padding='same'))\n",
    "model.add(Dropout(rate=0.1))\n",
    "\n",
    "model.add(Flatten())\n",
    "\n",
    "model.add(Dense(units=10, activation='relu'))\n"
   ]
  },
  {
   "cell_type": "code",
   "execution_count": 27,
   "metadata": {},
   "outputs": [],
   "source": [
    "model.compile(loss='mse', metrics=['acc'], optimizer=adam())"
   ]
  },
  {
   "cell_type": "markdown",
   "metadata": {},
   "source": [
    "### 存取初始 weights以進行多次調參"
   ]
  },
  {
   "cell_type": "code",
   "execution_count": 28,
   "metadata": {},
   "outputs": [],
   "source": [
    "model_weight = model.get_weights()"
   ]
  },
  {
   "cell_type": "code",
   "execution_count": 5,   
   "metadata": {},
   "outputs": [
    {
     "name": "stdout",
     "output_type": "stream",
     "text": [      "_________________________________________________________________\n",
      "Layer (type)                 Output Shape              Param #   \n",
      "=================================================================\n",
      "conv2d_5 (Conv2D)            (None, 28, 28, 10)        170       \n",
      "_________________________________________________________________\n",
      "max_pooling2d_5 (MaxPooling2 (None, 28, 28, 10)        0         \n",
      "_________________________________________________________________\n",
      "dropout_5 (Dropout)          (None, 28, 28, 10)        0         \n",
      "_________________________________________________________________\n",
      "flatten_4 (Flatten)          (None, 7840)              0         \n",
      "_________________________________________________________________\n",
      "dense_5 (Dense)              (None, 10)                78410     \n",
      "=================================================================\n",
      "Total params: 78,580\n",
      "Trainable params: 78,580\n",
      "Non-trainable params: 0\n",
      "_________________________________________________________________\n"
     ]
    }
   ],
   "source": [
    "print (x_train.shape, y_train.shape, x_test.shape, y_test.shape)"
   ]
  },
  {
   "cell_type": "code",
   "execution_count": 6,
   "metadata": {},
   "outputs": [],
   "source": [
    "x_train = x_train.reshape(60000, 28, 28, 1)\n",
    "x_test = x_test.reshape(10000, 28, 28, 1)"
   ]
  },
  {
   "cell_type": "code",
   "execution_count": 7,
   "metadata": {},
   "outputs": [
    {
     "name": "stdout",
     "output_type": "stream",
     "text": [
      "Train on 48000 samples, validate on 12000 samples\n",
      "Epoch 1/20\n",
      "48000/48000 [==============================] - 1s 22us/step - loss: 0.0215 - acc: 0.8564 - val_loss: 0.0162 - val_acc: 0.8897\n",
      "Epoch 2/20\n",
      "48000/48000 [==============================] - 1s 25us/step - loss: 0.0160 - acc: 0.8851 - val_loss: 0.0150 - val_acc: 0.8921\n",
      "Epoch 3/20\n",
      "48000/48000 [==============================] - 1s 23us/step - loss: 0.0152 - acc: 0.8882 - val_loss: 0.0144 - val_acc: 0.8938\n",
      "Epoch 4/20\n",
      "48000/48000 [==============================] - 1s 30us/step - loss: 0.0147 - acc: 0.8898 - val_loss: 0.0143 - val_acc: 0.8943\n",
      "Epoch 5/20\n",
      "48000/48000 [==============================] - 1s 28us/step - loss: 0.0145 - acc: 0.8904 - val_loss: 0.0139 - val_acc: 0.8944\n",
      "Epoch 6/20\n",
      "48000/48000 [==============================] - 1s 22us/step - loss: 0.0143 - acc: 0.8914 - val_loss: 0.0139 - val_acc: 0.8958\n",
      "Epoch 7/20\n",
      "48000/48000 [==============================] - 1s 24us/step - loss: 0.0141 - acc: 0.8923 - val_loss: 0.0139 - val_acc: 0.8952\n",
      "Epoch 8/20\n",
      "48000/48000 [==============================] - 1s 22us/step - loss: 0.0140 - acc: 0.8923 - val_loss: 0.0137 - val_acc: 0.8962\n",
      "Epoch 9/20\n",
      "48000/48000 [==============================] - 1s 22us/step - loss: 0.0139 - acc: 0.8933 - val_loss: 0.0139 - val_acc: 0.8950\n",
      "Epoch 10/20\n",
      "48000/48000 [==============================] - 1s 25us/step - loss: 0.0138 - acc: 0.8932 - val_loss: 0.0136 - val_acc: 0.8955\n",
      "Epoch 11/20\n",
      "48000/48000 [==============================] - 1s 25us/step - loss: 0.0137 - acc: 0.8939 - val_loss: 0.0139 - val_acc: 0.8944\n",
      "Epoch 12/20\n",
      "48000/48000 [==============================] - 1s 25us/step - loss: 0.0136 - acc: 0.8942 - val_loss: 0.0137 - val_acc: 0.8950\n",
      "Epoch 13/20\n",
      "48000/48000 [==============================] - 1s 25us/step - loss: 0.0135 - acc: 0.8945 - val_loss: 0.0140 - val_acc: 0.8948\n",
      "Epoch 14/20\n",
      "48000/48000 [==============================] - 1s 22us/step - loss: 0.0134 - acc: 0.8945 - val_loss: 0.0136 - val_acc: 0.8958\n",
      "Epoch 15/20\n",
      "48000/48000 [==============================] - 1s 26us/step - loss: 0.0134 - acc: 0.8946 - val_loss: 0.0136 - val_acc: 0.8958\n",
      "Epoch 16/20\n",
      "48000/48000 [==============================] - 1s 24us/step - loss: 0.0134 - acc: 0.8949 - val_loss: 0.0137 - val_acc: 0.8955\n",
      "Epoch 17/20\n",
      "48000/48000 [==============================] - 1s 25us/step - loss: 0.0133 - acc: 0.8953 - val_loss: 0.0138 - val_acc: 0.8952\n",
      "Epoch 18/20\n",
      "48000/48000 [==============================] - 1s 23us/step - loss: 0.0133 - acc: 0.8955 - val_loss: 0.0136 - val_acc: 0.8961\n",
      "Epoch 19/20\n",
      "48000/48000 [==============================] - 1s 24us/step - loss: 0.0133 - acc: 0.8952 - val_loss: 0.0137 - val_acc: 0.8957\n",
      "Epoch 20/20\n",
      "48000/48000 [==============================] - 1s 23us/step - loss: 0.0132 - acc: 0.8956 - val_loss: 0.0136 - val_acc: 0.8959\n"
     ]
    }
   ],
   "source": [    "model.set_weights(model_weight)\n",
    "model_his = model.fit(x_train, y_train, batch_size=128, epochs=20, shuffle=True, validation_split=0.2)"
   ]
  },
  {
   "cell_type": "markdown",
   "metadata": {},
   "source": [
    "### 經測試較為準確之 model layout，兩層 CNN 及兩層 NN"
   ]
  },
  {
   "cell_type": "code",
   "execution_count": 31,
   "metadata": {},
   "outputs": [],
   "source": [
    "model2 = Sequential()\n",
    "\n",
    "model2.add(Conv2D(filters=10,kernel_size=4, padding='same', input_shape=(28, 28, 1), \\\n",
    "                  kernel_initializer='random_uniform', bias_initializer='zeros', activation='relu'))\n",
    "model2.add(MaxPooling2D(pool_size=3, strides=1, padding='same'))\n",
    "model2.add(Dropout(rate=0.1))\n",
    "model2.add(Conv2D(filters=20,kernel_size=4, padding='same', input_shape=(28, 28, 1), \\\n",
    "                  kernel_initializer='random_uniform', bias_initializer='zeros', activation='relu'))\n",
    "model2.add(MaxPooling2D(pool_size=2, strides=1, padding='same'))\n",
    "model2.add(Dropout(rate=0.1))\n",
    "model2.add(Flatten())\n",
    "model2.add(Dense(units=10, activation='relu', kernel_initializer='random_uniform', bias_initializer='zeros'))\n",
    "model2.add(Dense(units=10, activation='relu'))\n"
   ]
  },
  {
   "cell_type": "markdown",
   "metadata": {},
   "source": [
    "### 儲存初始參數"
   ]
  },
  {
   "cell_type": "code",
   "execution_count": 10,
   "metadata": {},
   "outputs": [],
   "source": [
    "model.compile(loss='categorical_crossentropy', metrics=['acc'], optimizer=adam())"
   ]
  },
  {
   "cell_type": "code",
   "execution_count": 33,
   "metadata": {},
   "outputs": [],
   "source": [
    "model2.compile(loss='mse', metrics=['acc'], optimizer=adam())"
   ]
  },
  {
   "cell_type": "code",
   "execution_count": 34,
   "metadata": {},
   "outputs": [
    {
     "name": "stdout",
     "output_type": "stream",
     "text": [
      "_________________________________________________________________\n",
      "Layer (type)                 Output Shape              Param #   \n",
      "=================================================================\n",
      "conv2d_6 (Conv2D)            (None, 28, 28, 10)        170       \n",
      "_________________________________________________________________\n",
      "max_pooling2d_6 (MaxPooling2 (None, 28, 28, 10)        0         \n",
      "_________________________________________________________________\n",
      "dropout_6 (Dropout)          (None, 28, 28, 10)        0         \n",
      "_________________________________________________________________\n",
      "conv2d_7 (Conv2D)            (None, 28, 28, 20)        3220      \n",
      "_________________________________________________________________\n",
      "max_pooling2d_7 (MaxPooling2 (None, 28, 28, 20)        0         \n",
      "_________________________________________________________________\n",
      "dropout_7 (Dropout)          (None, 28, 28, 20)        0         \n",
      "_________________________________________________________________\n",
      "flatten_5 (Flatten)          (None, 15680)             0         \n",
      "_________________________________________________________________\n",
      "dense_6 (Dense)              (None, 10)                156810    \n",
      "_________________________________________________________________\n",
      "dense_7 (Dense)              (None, 10)                110       \n",
      "=================================================================\n",
      "Total params: 160,310\n",
      "Trainable params: 160,310\n",
      "Non-trainable params: 0\n",
      "_________________________________________________________________\n"
     ]
    }
   ],
   "source": [
    "model2.summary()"
   ]
  },
  {
   "cell_type": "code",
   "execution_count": 35,
   "metadata": {},
   "outputs": [],
   "source": [
    "model2.set_weights(model2_weight)"
   ]
  },
  {
   "cell_type": "code",
   "execution_count": 42,
   "metadata": {},
   "outputs": [
    {
     "name": "stdout",
     "output_type": "stream",
     "text": [
      "Train on 48000 samples, validate on 12000 samples\n",
      "Epoch 1/20\n",
      "48000/48000 [==============================] - 4s 87us/step - loss: 0.0180 - acc: 0.9166 - val_loss: 0.0074 - val_acc: 0.9748\n",
      "Epoch 2/20\n",
      "48000/48000 [==============================] - 4s 75us/step - loss: 0.0073 - acc: 0.9764 - val_loss: 0.0063 - val_acc: 0.9818\n",
      "Epoch 3/20\n",
      "48000/48000 [==============================] - 4s 86us/step - loss: 0.0059 - acc: 0.9820 - val_loss: 0.0053 - val_acc: 0.9839\n",
      "Epoch 4/20\n",
      "48000/48000 [==============================] - 4s 88us/step - loss: 0.0051 - acc: 0.9850 - val_loss: 0.0047 - val_acc: 0.9857\n",
      "Epoch 5/20\n",
      "48000/48000 [==============================] - 4s 85us/step - loss: 0.0047 - acc: 0.9861 - val_loss: 0.0046 - val_acc: 0.9853\n",
      "Epoch 6/20\n",
      "48000/48000 [==============================] - 4s 79us/step - loss: 0.0043 - acc: 0.9877 - val_loss: 0.0042 - val_acc: 0.9871\n",
      "Epoch 7/20\n",
      "48000/48000 [==============================] - 4s 85us/step - loss: 0.0040 - acc: 0.9887 - val_loss: 0.0049 - val_acc: 0.9843\n",
      "Epoch 8/20\n",
      "48000/48000 [==============================] - 5s 99us/step - loss: 0.0039 - acc: 0.9899 - val_loss: 0.0040 - val_acc: 0.9863\n",
      "Epoch 9/20\n",
      "48000/48000 [==============================] - 4s 88us/step - loss: 0.0036 - acc: 0.9904 - val_loss: 0.0040 - val_acc: 0.9863\n",
      "Epoch 10/20\n",
      "48000/48000 [==============================] - 4s 86us/step - loss: 0.0036 - acc: 0.9908 - val_loss: 0.0041 - val_acc: 0.9863\n",
      "Epoch 11/20\n",
      "48000/48000 [==============================] - 4s 87us/step - loss: 0.0033 - acc: 0.9913 - val_loss: 0.0039 - val_acc: 0.9863\n",
      "Epoch 12/20\n",
      "48000/48000 [==============================] - 4s 84us/step - loss: 0.0033 - acc: 0.9918 - val_loss: 0.0043 - val_acc: 0.9853\n",
      "Epoch 13/20\n",
      "48000/48000 [==============================] - 4s 77us/step - loss: 0.0032 - acc: 0.9920 - val_loss: 0.0041 - val_acc: 0.9862\n",
      "Epoch 14/20\n",
      "48000/48000 [==============================] - 2s 46us/step - loss: 0.0031 - acc: 0.9923 - val_loss: 0.0037 - val_acc: 0.9870\n",
      "Epoch 15/20\n",
      "48000/48000 [==============================] - 2s 48us/step - loss: 0.0030 - acc: 0.9929 - val_loss: 0.0039 - val_acc: 0.9859\n",
      "Epoch 16/20\n",
      "48000/48000 [==============================] - 2s 46us/step - loss: 0.0029 - acc: 0.9928 - val_loss: 0.0038 - val_acc: 0.9868\n",
      "Epoch 17/20\n",
      "48000/48000 [==============================] - 4s 74us/step - loss: 0.0028 - acc: 0.9931 - val_loss: 0.0036 - val_acc: 0.9868\n",
      "Epoch 18/20\n",
      "48000/48000 [==============================] - 4s 73us/step - loss: 0.0027 - acc: 0.9934 - val_loss: 0.0038 - val_acc: 0.9870\n",
      "Epoch 19/20\n",
      "48000/48000 [==============================] - 3s 58us/step - loss: 0.0027 - acc: 0.9936 - val_loss: 0.0038 - val_acc: 0.9858\n",
      "Epoch 20/20\n",
      "48000/48000 [==============================] - 7s 150us/step - loss: 0.0027 - acc: 0.9932 - val_loss: 0.0034 - val_acc: 0.9878\n"
     ]
    }
   ],
   "source": [    "model2.set_weights(model2_weight)\n",
    "model2_his = model2.fit(x_train, y_train, batch_size=100, epochs=20, shuffle=True, validation_split=0.2)"
   ]
  },
  {
   "cell_type": "markdown",
   "metadata": {},
   "source": [
    "<h1 style=\"background-color:lightblue; width:100%; height:200%; color:tomato; text-align:center\"><br>結果<br></h1>"
   ]
  },
  {
   "cell_type": "code",
   "execution_count": 46,
   "metadata": {},
   "outputs": [
    {
     "name": "stdout",
     "output_type": "stream",
     "text": [
      "10000/10000 [==============================] - 0s 19us/step\n"
     ]
    },
    {
     "data": {
      "text/plain": [
       "[0.01425233027562499, 0.8888]"
      ]
     },
     "execution_count": 46,
     "metadata": {},
     "output_type": "execute_result"
    }
   ],
   "source": [
    "model.evaluate(x_test, y_test)"
   ]
  },
  {
   "cell_type": "code",
   "execution_count": 47,
   "metadata": {},
   "outputs": [
    {
     "name": "stdout",
     "output_type": "stream",
     "text": [
      "10000/10000 [==============================] - 0s 27us/step\n"
     ]
    },
    {
     "data": {
      "text/plain": [
       "[0.0034597399248741567, 0.9884]"
      ]
     },
     "execution_count": 47,
     "metadata": {},
     "output_type": "execute_result"
    }
   ],
   "source": [
    "model2.evaluate(x_test, y_test)"
   ]
  },
  {
   "cell_type": "code",
   "execution_count": 48,
   "metadata": {},
   "outputs": [
    {
     "data": {
      "text/plain": [
       "<matplotlib.legend.Legend at 0x7ffa849abef0>"
      ]
     },
     "execution_count": 48,
     "metadata": {},
     "output_type": "execute_result"
    },
    {
     "data": {
      "image/png": "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\n",
      "text/plain": [
       "<matplotlib.figure.Figure at 0x7ffa84a46f60>"
      ]
     },
     "metadata": {
      "needs_background": "light"
     },
     "output_type": "display_data"
    }
   ],
   "source": [
    "plt.plot(model.history.history['acc'], c='b')\n",
    "plt.plot(model2.history.history['acc'], c='g')\n",
    "plt.legend([\"model\", \"model2\"], loc='center right')"
   ]
  },
  {
   "cell_type": "code",
   "execution_count": null,
   "metadata": {},
   "outputs": [],
   "source": []
  }
 ],
 "metadata": {
  "kernelspec": {
   "display_name": "Python 3",
   "language": "python",
   "name": "python3"
  },
  "language_info": {
   "codemirror_mode": {
    "name": "ipython",
    "version": 3
   },
   "file_extension": ".py",
   "mimetype": "text/x-python",
   "name": "python",
   "nbconvert_exporter": "python",
   "pygments_lexer": "ipython3",
   "version": "3.6.7"
  }
 },
 "nbformat": 4,
 "nbformat_minor": 2
}
>>>>>>> e64c932dd0022bea45047b962c5eec37231f5b67
