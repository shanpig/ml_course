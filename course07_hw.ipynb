{
 "cells": [
  {
   "cell_type": "code",
   "execution_count": 1,
   "metadata": {},
   "outputs": [
    {
     "name": "stderr",
     "output_type": "stream",
     "text": [
      "Using TensorFlow backend.\n"
     ]
    }
   ],
   "source": [
    "%matplotlib inline\n",
    "\n",
    "import keras\n",
    "import numpy as np\n",
    "import pandas as pd\n",
    "import matplotlib.pyplot as plt\n",
    "\n",
    "from keras import optimizers\n",
    "from keras.utils import np_utils\n",
    "from keras.datasets import mnist\n",
    "from keras.models import Sequential\n",
    "from keras.layers import Dense, Input, Dropout, Activation\n"
   ]
  },
  {
   "cell_type": "markdown",
   "metadata": {},
   "source": [
    "## With NN and reshaping"
   ]
  },
  {
   "cell_type": "code",
   "execution_count": 2,
   "metadata": {},
   "outputs": [],
   "source": [
    "(x1_train, y1_train), (x1_test, y1_test) = mnist.load_data()"
   ]
  },
  {
   "cell_type": "code",
   "execution_count": 3,
   "metadata": {},
   "outputs": [
    {
     "name": "stdout",
     "output_type": "stream",
     "text": [
      "x_train.shape: (60000, 28, 28)\n",
      "x_test.shape: (10000, 28, 28)\n",
      "y_train.shape: (60000,)\n",
      "y_test.shape: (10000,)\n"
     ]
    }
   ],
   "source": [
    "print (\"x_train.shape: \"+str(x1_train.shape))\n",
    "print (\"x_test.shape: \"+str(x1_test.shape))\n",
    "print (\"y_train.shape: \"+str(y1_train.shape))\n",
    "print (\"y_test.shape: \"+str(y1_test.shape))"
   ]
  },
  {
   "cell_type": "markdown",
   "metadata": {},
   "source": [
    "## Reshaping"
   ]
  },
  {
   "cell_type": "code",
   "execution_count": 4,
   "metadata": {},
   "outputs": [
    {
     "name": "stdout",
     "output_type": "stream",
     "text": [
      "X_tr1: (60000, 784)\n"
     ]
    }
   ],
   "source": [
    "X_tr1 = x1_train.reshape(len(x1_train), -1)  # reshaping\n",
    "X_tr1 = X_tr1.astype('float32')\n",
    "X_tr1 /= 255  # normalizing\n",
    "print (\"X_tr1: \"+str(X_tr1.shape))"
   ]
  },
  {
   "cell_type": "code",
   "execution_count": 5,
   "metadata": {},
   "outputs": [
    {
     "name": "stdout",
     "output_type": "stream",
     "text": [
      "X_ts1: (10000, 784)\n"
     ]
    }
   ],
   "source": [
    "X_ts1 = x1_test.reshape(len(x1_test), -1)  # reshaping\n",
    "X_ts1 = X_ts1.astype('float32')\n",
    "X_ts1 /= 255 # normalizing\n",
    "print (\"X_ts1: \"+str(X_ts1.shape))"
   ]
  },
  {
   "cell_type": "markdown",
   "metadata": {},
   "source": [
    "## Categorizing"
   ]
  },
  {
   "cell_type": "code",
   "execution_count": 6,
   "metadata": {},
   "outputs": [
    {
     "name": "stdout",
     "output_type": "stream",
     "text": [
      "Y_tr1: (60000, 10)\n",
      "Y_ts1: (10000, 10)\n"
     ]
    }
   ],
   "source": [
    "cat = 10\n",
    "Y_tr1 = np_utils.to_categorical(y1_train, cat) # categorize\n",
    "Y_ts1 = np_utils.to_categorical(y1_test, cat)  # categorize\n",
    "print (\"Y_tr1: \"+str(Y_tr1.shape))\n",
    "print (\"Y_ts1: \"+str(Y_ts1.shape))"
   ]
  },
  {
   "cell_type": "markdown",
   "metadata": {},
   "source": [
    "## Model building"
   ]
  },
  {
   "cell_type": "code",
   "execution_count": 16,
   "metadata": {},
   "outputs": [],
   "source": [
    "input_img = Input(shape=(60000, 784))\n",
    "\n",
    "model=Sequential()\n",
    "\n",
    "model.add(Dense(units=32, activation='sigmoid', name=\"1st-layer\", ))\n",
    "model.add(Dense(units=16, activation='sigmoid', name=\"2nd-layer\"))\n",
    "model.add(Dense(units=10, activation='softmax', name=\"3rd-layer\"))\n",
    "\n",
    "model.compile(optimizer=optimizers.Adam(), loss='categorical_crossentropy', metrics=['accuracy'])"
   ]
  },
  {
   "cell_type": "markdown",
   "metadata": {},
   "source": [
    "## fitting data"
   ]
  },
  {
   "cell_type": "code",
   "execution_count": 17,
   "metadata": {},
   "outputs": [
    {
     "name": "stdout",
     "output_type": "stream",
     "text": [
      "Train on 48000 samples, validate on 12000 samples\n",
      "Epoch 1/20\n",
      "48000/48000 [==============================] - 3s 53us/step - loss: 1.6594 - acc: 0.6537 - val_loss: 1.0895 - val_acc: 0.8458\n",
      "Epoch 2/20\n",
      "48000/48000 [==============================] - 2s 38us/step - loss: 0.8099 - acc: 0.8609 - val_loss: 0.5812 - val_acc: 0.8904\n",
      "Epoch 3/20\n",
      "48000/48000 [==============================] - 2s 37us/step - loss: 0.5027 - acc: 0.8932 - val_loss: 0.4082 - val_acc: 0.9089\n",
      "Epoch 4/20\n",
      "48000/48000 [==============================] - 2s 36us/step - loss: 0.3811 - acc: 0.9101 - val_loss: 0.3306 - val_acc: 0.9216\n",
      "Epoch 5/20\n",
      "48000/48000 [==============================] - 2s 48us/step - loss: 0.3162 - acc: 0.9214 - val_loss: 0.2863 - val_acc: 0.9289\n",
      "Epoch 6/20\n",
      "48000/48000 [==============================] - 2s 39us/step - loss: 0.2740 - acc: 0.9303 - val_loss: 0.2557 - val_acc: 0.9345\n",
      "Epoch 7/20\n",
      "48000/48000 [==============================] - 2s 37us/step - loss: 0.2440 - acc: 0.9360 - val_loss: 0.2348 - val_acc: 0.9391\n",
      "Epoch 8/20\n",
      "48000/48000 [==============================] - 2s 44us/step - loss: 0.2206 - acc: 0.9416 - val_loss: 0.2169 - val_acc: 0.9426\n",
      "Epoch 9/20\n",
      "48000/48000 [==============================] - 2s 36us/step - loss: 0.2017 - acc: 0.9455 - val_loss: 0.2045 - val_acc: 0.9458\n",
      "Epoch 10/20\n",
      "48000/48000 [==============================] - 2s 38us/step - loss: 0.1858 - acc: 0.9497 - val_loss: 0.1937 - val_acc: 0.9476\n",
      "Epoch 11/20\n",
      "48000/48000 [==============================] - 2s 39us/step - loss: 0.1724 - acc: 0.9537 - val_loss: 0.1836 - val_acc: 0.9491\n",
      "Epoch 12/20\n",
      "48000/48000 [==============================] - 2s 37us/step - loss: 0.1606 - acc: 0.9565 - val_loss: 0.1772 - val_acc: 0.9497\n",
      "Epoch 13/20\n",
      "48000/48000 [==============================] - 2s 37us/step - loss: 0.1509 - acc: 0.9591 - val_loss: 0.1708 - val_acc: 0.9514\n",
      "Epoch 14/20\n",
      "48000/48000 [==============================] - 2s 42us/step - loss: 0.1423 - acc: 0.9608 - val_loss: 0.1661 - val_acc: 0.9525\n",
      "Epoch 15/20\n",
      "48000/48000 [==============================] - 2s 41us/step - loss: 0.1343 - acc: 0.9630 - val_loss: 0.1612 - val_acc: 0.9537\n",
      "Epoch 16/20\n",
      "48000/48000 [==============================] - 2s 41us/step - loss: 0.1274 - acc: 0.9651 - val_loss: 0.1597 - val_acc: 0.9537\n",
      "Epoch 17/20\n",
      "48000/48000 [==============================] - 2s 41us/step - loss: 0.1211 - acc: 0.9671 - val_loss: 0.1546 - val_acc: 0.9553\n",
      "Epoch 18/20\n",
      "48000/48000 [==============================] - 2s 41us/step - loss: 0.1151 - acc: 0.9686 - val_loss: 0.1518 - val_acc: 0.9566\n",
      "Epoch 19/20\n",
      "48000/48000 [==============================] - 2s 41us/step - loss: 0.1102 - acc: 0.9695 - val_loss: 0.1509 - val_acc: 0.9559\n",
      "Epoch 20/20\n",
      "48000/48000 [==============================] - 2s 38us/step - loss: 0.1056 - acc: 0.9705 - val_loss: 0.1483 - val_acc: 0.9567\n"
     ]
    }
   ],
   "source": [
    "model_data = model.fit(X_tr1, Y_tr1, epochs=20, batch_size=128, shuffle=True, validation_split=0.2)"
   ]
  },
  {
   "cell_type": "markdown",
   "metadata": {},
   "source": [
    "## prediction"
   ]
  },
  {
   "cell_type": "code",
   "execution_count": 18,
   "metadata": {},
   "outputs": [],
   "source": [
    "predict = model.predict_classes(x=X_ts1)"
   ]
  },
  {
   "cell_type": "markdown",
   "metadata": {},
   "source": [
    "## define result function"
   ]
  },
  {
   "cell_type": "code",
   "execution_count": 19,
   "metadata": {},
   "outputs": [],
   "source": [
    "def results():\n",
    "    count = 0\n",
    "    for i in range(len(x1_test)):\n",
    "        if y1_test[i] != predict[i]:\n",
    "            print (str(predict[i])+\"!=\"+str(y1_test[i]), end=\", \")\n",
    "            count+=1\n",
    "    print (\"\\n\\nwrong count = \"+str(count))"
   ]
  },
  {
   "cell_type": "markdown",
   "metadata": {},
   "source": [
    "## result"
   ]
  },
  {
   "cell_type": "code",
   "execution_count": 20,
   "metadata": {},
   "outputs": [
    {
     "name": "stdout",
     "output_type": "stream",
     "text": [
      "6!=5, 2!=8, 4!=9, 9!=8, 8!=9, 6!=4, 0!=6, 9!=8, 3!=2, 7!=9, 7!=2, 3!=5, 0!=5, 9!=7, 7!=3, 3!=5, 2!=4, 0!=6, 8!=9, 1!=2, 7!=3, 3!=9, 7!=9, 0!=8, 5!=3, 7!=4, 2!=3, 3!=8, 2!=8, 8!=2, 3!=8, 6!=4, 8!=2, 4!=8, 7!=5, 6!=0, 8!=5, 9!=4, 7!=8, 4!=9, 7!=9, 7!=2, 5!=3, 6!=2, 5!=3, 9!=8, 4!=5, 2!=1, 0!=6, 7!=9, 5!=6, 5!=3, 9!=7, 8!=6, 3!=9, 6!=4, 8!=3, 1!=6, 8!=6, 9!=7, 8!=3, 2!=7, 4!=9, 5!=8, 9!=4, 3!=9, 6!=4, 1!=7, 4!=5, 7!=5, 7!=3, 3!=8, 2!=7, 2!=8, 6!=5, 3!=5, 9!=4, 9!=4, 6!=5, 7!=3, 9!=7, 1!=7, 9!=7, 0!=5, 2!=1, 7!=8, 6!=4, 8!=9, 3!=9, 9!=7, 6!=2, 7!=4, 7!=9, 6!=5, 0!=2, 7!=3, 5!=9, 0!=8, 2!=7, 4!=2, 7!=3, 1!=5, 3!=4, 2!=7, 5!=1, 2!=8, 9!=2, 4!=6, 9!=8, 9!=4, 2!=8, 4!=9, 6!=4, 9!=7, 3!=9, 4!=6, 6!=2, 2!=7, 7!=1, 9!=7, 8!=4, 7!=2, 9!=4, 9!=7, 0!=2, 7!=3, 0!=6, 8!=9, 9!=4, 1!=6, 2!=1, 3!=2, 8!=9, 8!=5, 6!=5, 6!=1, 0!=8, 6!=9, 7!=2, 5!=3, 3!=7, 2!=0, 9!=4, 0!=9, 1!=9, 3!=8, 2!=8, 1!=9, 4!=9, 7!=6, 7!=9, 1!=2, 5!=6, 0!=2, 3!=5, 8!=5, 2!=3, 7!=5, 7!=9, 4!=7, 8!=2, 6!=0, 0!=9, 1!=6, 8!=5, 4!=9, 0!=2, 3!=5, 4!=9, 3!=4, 0!=8, 5!=3, 2!=3, 2!=3, 7!=5, 5!=9, 7!=3, 5!=3, 3!=5, 7!=9, 8!=6, 1!=9, 7!=9, 2!=1, 9!=5, 0!=6, 9!=5, 2!=6, 4!=7, 3!=8, 8!=9, 0!=6, 8!=2, 9!=8, 9!=5, 7!=9, 0!=6, 7!=3, 1!=9, 4!=6, 3!=4, 2!=3, 0!=5, 5!=8, 5!=8, 4!=7, 8!=5, 3!=9, 6!=7, 3!=9, 9!=4, 2!=7, 3!=8, 4!=5, 3!=7, 8!=5, 6!=5, 2!=4, 8!=2, 3!=7, 7!=0, 1!=7, 5!=6, 4!=9, 6!=5, 3!=5, 2!=1, 3!=9, 6!=4, 5!=3, 3!=2, 4!=9, 4!=7, 9!=4, 5!=6, 7!=0, 0!=8, 2!=9, 5!=9, 7!=2, 9!=7, 7!=1, 2!=8, 7!=9, 8!=2, 3!=5, 6!=4, 3!=5, 5!=9, 7!=2, 1!=7, 8!=5, 4!=9, 7!=3, 4!=9, 7!=5, 4!=9, 6!=5, 4!=9, 7!=3, 2!=3, 0!=6, 7!=8, 1!=9, 5!=6, 6!=5, 2!=6, 4!=8, 4!=2, 5!=3, 3!=8, 7!=8, 2!=7, 7!=3, 6!=4, 7!=9, 8!=3, 3!=8, 0!=6, 4!=9, 3!=7, 9!=4, 0!=9, 4!=2, 5!=0, 8!=7, 3!=2, 4!=8, 2!=3, 8!=3, 5!=3, 7!=9, 6!=1, 3!=8, 9!=7, 6!=5, 5!=8, 9!=7, 5!=1, 9!=7, 7!=4, 9!=3, 3!=5, 6!=8, 7!=9, 7!=9, 9!=7, 7!=4, 2!=7, 0!=4, 3!=5, 3!=5, 9!=4, 3!=5, 8!=3, 3!=5, 8!=3, 0!=2, 3!=5, 8!=3, 3!=9, 3!=9, 3!=9, 8!=2, 4!=9, 3!=9, 3!=9, 0!=9, 2!=9, 6!=8, 6!=0, 2!=3, 6!=0, 6!=0, 6!=2, 0!=9, 4!=3, 9!=8, 3!=9, 4!=3, 4!=9, 7!=9, 3!=5, 6!=2, 4!=3, 1!=7, 7!=0, 6!=5, 7!=8, 7!=8, 5!=0, 4!=2, 8!=2, 7!=8, 9!=4, 6!=1, 4!=2, 7!=8, 9!=4, 7!=0, 3!=7, 8!=4, 8!=5, 8!=9, 7!=2, 5!=4, 8!=2, 3!=2, 2!=3, 8!=1, 2!=3, 2!=3, 8!=1, 9!=7, 8!=1, 8!=1, 1!=2, 8!=5, 8!=2, 5!=8, 5!=8, 8!=3, 7!=0, 9!=3, 6!=8, 4!=6, 6!=0, 7!=9, 9!=4, 4!=9, 7!=9, 9!=4, 6!=8, 2!=7, 2!=7, 2!=7, 2!=7, 2!=7, 3!=2, 8!=2, 7!=9, 5!=8, 3!=5, 8!=9, 4!=9, 8!=0, 7!=9, 7!=1, 7!=2, 5!=6, 7!=9, 5!=6, 8!=2, 0!=2, 6!=5, 6!=4, 7!=9, 1!=8, 6!=5, 0!=2, 0!=5, 0!=5, 0!=2, 4!=9, 8!=2, 7!=2, 8!=6, 6!=0, 0!=6, 7!=3, 6!=5, 8!=3, 3!=2, 6!=5, \n",
      "\n",
      "wrong count = 434\n"
     ]
    }
   ],
   "source": [
    "results()"
   ]
  },
  {
   "cell_type": "markdown",
   "metadata": {},
   "source": [
    "## Plotting"
   ]
  },
  {
   "cell_type": "code",
   "execution_count": 21,
   "metadata": {},
   "outputs": [
    {
     "data": {
      "image/png": "[encoded data removed]",
      "text/plain": [
       "<Figure size 432x288 with 1 Axes>"
      ]
     },
     "metadata": {
      "needs_background": "light"
     },
     "output_type": "display_data"
    }
   ],
   "source": [
    "plt.plot(model_data.history[\"acc\"])\n",
    "plt.xlabel(\"epoch\")\n",
    "plt.ylabel(\"accuracy\")\n",
    "plt.legend([\"model\"], loc=\"best\")\n",
    "plt.show()"
   ]
  },
  {
   "cell_type": "code",
   "execution_count": null,
   "metadata": {},
   "outputs": [],
   "source": []
  }
 ],
 "metadata": {
  "kernelspec": {
   "display_name": "Python 3",
   "language": "python",
   "name": "python3"
  },
  "language_info": {
   "codemirror_mode": {
    "name": "ipython",
    "version": 3
   },
   "file_extension": ".py",
   "mimetype": "text/x-python",
   "name": "python",
   "nbconvert_exporter": "python",
   "pygments_lexer": "ipython3",
   "version": "3.6.0"
  }
 },
 "nbformat": 4,
 "nbformat_minor": 2
}
