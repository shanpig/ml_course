{
 "cells": [
  {
   "cell_type": "markdown",
   "metadata": {},
   "source": [
    "## 期中專題：<br><br>實作MNIST 手寫數字之 CNN 預測，並modify圖片使得AI無法辨認"
   ]
  },
  {
   "cell_type": "code",
   "execution_count": 1,
   "metadata": {},
   "outputs": [
    {
     "name": "stderr",
     "output_type": "stream",
     "text": [
      "Using Theano backend.\n"
     ]
    }
   ],
   "source": [
    "%matplotlib inline\n",
    "\n",
    "import matplotlib.pyplot as plt\n",
    "import numpy as np\n",
    "import pandas as pd\n",
    "import pickle\n",
    "\n",
    "import keras\n",
    "from keras.datasets import mnist\n",
    "from keras import optimizers\n",
    "from keras.utils import np_utils\n",
    "from keras.models import Sequential\n",
    "from keras.layers import Dense, Input, Conv2D, Dropout, MaxPooling2D, Activation, Flatten\n",
    "from sklearn.datasets import load_diabetes\n",
    "from sklearn.model_selection import train_test_split"
   ]
  },
  {
   "cell_type": "markdown",
   "metadata": {},
   "source": [
    "### 先丟資料進來"
   ]
  },
  {
   "cell_type": "code",
   "execution_count": 2,
   "metadata": {},
   "outputs": [],
   "source": [
    "(x_train, y_train), (x_test, y_test)=mnist.load_data()"
   ]
  },
  {
   "cell_type": "code",
   "execution_count": 3,
   "metadata": {},
   "outputs": [
    {
     "name": "stdout",
     "output_type": "stream",
     "text": [
      "x_train.shape: (60000, 28, 28)\n",
      "x_test.shape: (10000, 28, 28)\n",
      "y_train.shape: (60000,)\n",
      "y_test.shape: (10000,)\n"
     ]
    }
   ],
   "source": [
    "print (\"x_train.shape: \"+str(x_train.shape))\n",
    "print (\"x_test.shape: \"+str(x_test.shape))\n",
    "print (\"y_train.shape: \"+str(y_train.shape))\n",
    "print (\"y_test.shape: \"+str(y_test.shape))"
   ]
  },
  {
   "cell_type": "markdown",
   "metadata": {},
   "source": [
    "### 看一下圖形長甚麼樣子(不知道是不是 tight_layout 配上 subplot 的 bug ，偶爾會有一張照片出不來...@@)"
   ]
  },
  {
   "cell_type": "code",
   "execution_count": 4,
   "metadata": {},
   "outputs": [
    {
     "data": {
      "image/png": "[encoded data removed]",
      "text/plain": [
       "<Figure size 432x288 with 15 Axes>"
      ]
     },
     "metadata": {},
     "output_type": "display_data"
    }
   ],
   "source": [
    "fig = plt.figure()\n",
    "\n",
    "for i in range(16):\n",
    "    plt.subplot(4, 4, i+1)\n",
    "    plt.imshow(X=x_train[i, :, :], cmap='gray', interpolation=None)\n",
    "    plt.title(\"Digit {}\".format(y_train[i]))\n",
    "    plt.tight_layout()\n",
    "    plt.xticks([])\n",
    "    plt.yticks([])\n"
   ]
  },
  {
   "cell_type": "markdown",
   "metadata": {},
   "source": [
    "### 將資料 reshape 到適當格式"
   ]
  },
  {
   "cell_type": "code",
   "execution_count": 5,
   "metadata": {},
   "outputs": [
    {
     "name": "stdout",
     "output_type": "stream",
     "text": [
      "X: (60000, 28, 28, 1)\n"
     ]
    }
   ],
   "source": [
    "X = x_train.reshape(len(x_train), 28, 28, 1)\n",
    "X = X.astype('float32')\n",
    "X /= 255\n",
    "print (\"X: \"+str(X.shape))"
   ]
  },
  {
   "cell_type": "code",
   "execution_count": 6,
   "metadata": {},
   "outputs": [
    {
     "name": "stdout",
     "output_type": "stream",
     "text": [
      "Xt: (10000, 28, 28, 1)\n"
     ]
    }
   ],
   "source": [
    "Xt = x_test.reshape(len(x_test), 28, 28, 1)\n",
    "Xt = Xt.astype('float32')\n",
    "Xt /= 255\n",
    "print (\"Xt: \"+str(Xt.shape))"
   ]
  },
  {
   "cell_type": "markdown",
   "metadata": {},
   "source": [
    "#### 因為判斷數字屬於分類問題，因此 label需要做 one-hot encoding"
   ]
  },
  {
   "cell_type": "code",
   "execution_count": 7,
   "metadata": {},
   "outputs": [
    {
     "name": "stdout",
     "output_type": "stream",
     "text": [
      "Y: (60000, 10)\n",
      "Yt: (10000, 10)\n"
     ]
    }
   ],
   "source": [
    "cat = 10\n",
    "Y = np_utils.to_categorical(y_train, cat)\n",
    "Yt = np_utils.to_categorical(y_test, cat)\n",
    "print (\"Y: \"+str(Y.shape))\n",
    "print (\"Yt: \"+str(Yt.shape))"
   ]
  },
  {
   "cell_type": "markdown",
   "metadata": {},
   "source": [
    "### 整個 model 的架構"
   ]
  },
  {
   "cell_type": "code",
   "execution_count": 8,
   "metadata": {},
   "outputs": [
    {
     "name": "stdout",
     "output_type": "stream",
     "text": [
      "_________________________________________________________________\n",
      "Layer (type)                 Output Shape              Param #   \n",
      "=================================================================\n",
      "conv2d_1 (Conv2D)            (None, 26, 26, 8)         80        \n",
      "_________________________________________________________________\n",
      "max_pooling2d_1 (MaxPooling2 (None, 13, 13, 8)         0         \n",
      "_________________________________________________________________\n",
      "dropout_1 (Dropout)          (None, 13, 13, 8)         0         \n",
      "_________________________________________________________________\n",
      "flatten_1 (Flatten)          (None, 1352)              0         \n",
      "_________________________________________________________________\n",
      "dense_1 (Dense)              (None, 10)                13530     \n",
      "=================================================================\n",
      "Total params: 13,610\n",
      "Trainable params: 13,610\n",
      "Non-trainable params: 0\n",
      "_________________________________________________________________\n"
     ]
    }
   ],
   "source": [
    "input_img = Input(shape=(28, 28, 1))\n",
    "model = Sequential()\n",
    "#model.add(Dense(activation='relu', units=8))\n",
    "model.add(Conv2D(8, kernel_size=3, activation='relu', input_shape=(28, 28, 1)))\n",
    "model.add(MaxPooling2D((2, 2), padding='same'))\n",
    "model.add(Dropout(rate=0.2))\n",
    "\n",
    "model.add(Flatten())\n",
    "model.add(Dense(units=10, activation='softmax'))\n",
    "\n",
    "model.summary()\n",
    "model.compile(optimizer = optimizers.Adam(), loss='categorical_crossentropy', metrics=[ 'accuracy'])"
   ]
  },
  {
   "cell_type": "markdown",
   "metadata": {},
   "source": [
    "### 開 Train ！！！！！"
   ]
  },
  {
   "cell_type": "code",
   "execution_count": 9,
   "metadata": {},
   "outputs": [
    {
     "name": "stdout",
     "output_type": "stream",
     "text": [
      "Train on 48000 samples, validate on 12000 samples\n",
      "Epoch 1/20\n",
      "48000/48000 [==============================] - 16s 330us/step - loss: 0.5640 - acc: 0.8394 - val_loss: 0.2997 - val_acc: 0.9075\n",
      "Epoch 2/20\n",
      "48000/48000 [==============================] - 16s 328us/step - loss: 0.3080 - acc: 0.9082 - val_loss: 0.2398 - val_acc: 0.9330\n",
      "Epoch 3/20\n",
      "48000/48000 [==============================] - 16s 324us/step - loss: 0.2631 - acc: 0.9224 - val_loss: 0.2075 - val_acc: 0.9404\n",
      "Epoch 4/20\n",
      "48000/48000 [==============================] - 15s 322us/step - loss: 0.2249 - acc: 0.9335 - val_loss: 0.1709 - val_acc: 0.9539\n",
      "Epoch 5/20\n",
      "48000/48000 [==============================] - 15s 317us/step - loss: 0.1941 - acc: 0.9424 - val_loss: 0.1491 - val_acc: 0.9582\n",
      "Epoch 6/20\n",
      "48000/48000 [==============================] - 21s 438us/step - loss: 0.1717 - acc: 0.9477 - val_loss: 0.1317 - val_acc: 0.9631\n",
      "Epoch 7/20\n",
      "48000/48000 [==============================] - 15s 311us/step - loss: 0.1540 - acc: 0.9543 - val_loss: 0.1205 - val_acc: 0.9664\n",
      "Epoch 8/20\n",
      "48000/48000 [==============================] - 15s 310us/step - loss: 0.1439 - acc: 0.9564 - val_loss: 0.1115 - val_acc: 0.9698\n",
      "Epoch 9/20\n",
      "48000/48000 [==============================] - 15s 310us/step - loss: 0.1346 - acc: 0.9594 - val_loss: 0.1052 - val_acc: 0.9723\n",
      "Epoch 10/20\n",
      "48000/48000 [==============================] - 16s 330us/step - loss: 0.1250 - acc: 0.9618 - val_loss: 0.1003 - val_acc: 0.9728\n",
      "Epoch 11/20\n",
      "48000/48000 [==============================] - 17s 347us/step - loss: 0.1177 - acc: 0.9650 - val_loss: 0.0957 - val_acc: 0.9728\n",
      "Epoch 12/20\n",
      "48000/48000 [==============================] - 16s 328us/step - loss: 0.1149 - acc: 0.9654 - val_loss: 0.0908 - val_acc: 0.9737\n",
      "Epoch 13/20\n",
      "48000/48000 [==============================] - 16s 341us/step - loss: 0.1063 - acc: 0.9676 - val_loss: 0.0879 - val_acc: 0.9751\n",
      "Epoch 14/20\n",
      "48000/48000 [==============================] - 16s 333us/step - loss: 0.1014 - acc: 0.9689 - val_loss: 0.0849 - val_acc: 0.9767\n",
      "Epoch 15/20\n",
      "48000/48000 [==============================] - 16s 332us/step - loss: 0.0959 - acc: 0.9704 - val_loss: 0.0827 - val_acc: 0.9764\n",
      "Epoch 16/20\n",
      "48000/48000 [==============================] - 16s 327us/step - loss: 0.0917 - acc: 0.9722 - val_loss: 0.0796 - val_acc: 0.9771\n",
      "Epoch 17/20\n",
      "48000/48000 [==============================] - 16s 329us/step - loss: 0.0914 - acc: 0.9715 - val_loss: 0.0782 - val_acc: 0.9772\n",
      "Epoch 18/20\n",
      "48000/48000 [==============================] - 16s 324us/step - loss: 0.0860 - acc: 0.9739 - val_loss: 0.0770 - val_acc: 0.9778\n",
      "Epoch 19/20\n",
      "48000/48000 [==============================] - 16s 328us/step - loss: 0.0823 - acc: 0.9742 - val_loss: 0.0748 - val_acc: 0.9785\n",
      "Epoch 20/20\n",
      "48000/48000 [==============================] - 16s 339us/step - loss: 0.0801 - acc: 0.9750 - val_loss: 0.0725 - val_acc: 0.9789\n"
     ]
    },
    {
     "data": {
      "text/plain": [
       "<keras.callbacks.History at 0x1644c276be0>"
      ]
     },
     "execution_count": 9,
     "metadata": {},
     "output_type": "execute_result"
    }
   ],
   "source": [
    "model.fit(X, Y, batch_size=128, epochs=20, shuffle=True, validation_split=0.2)\n"
   ]
  },
  {
   "cell_type": "markdown",
   "metadata": {},
   "source": [
    "### 將 train 好的 model 拿去判斷 testing data，並把輸出從 one-hot 轉成數字。"
   ]
  },
  {
   "cell_type": "code",
   "execution_count": 10,
   "metadata": {},
   "outputs": [
    {
     "name": "stdout",
     "output_type": "stream",
     "text": [
      "result.shape: (10000, 10)\n",
      "ans: [7 2 1 ... 4 5 6]\n",
      "ans.shape: (10000,)\n"
     ]
    }
   ],
   "source": [
    "result = model.predict(Xt)\n",
    "print (\"result.shape: \"+str(result.shape))\n",
    "ans = result.argmax(1)\n",
    "print (\"ans: \"+str(ans))\n",
    "print (\"ans.shape: \"+str(ans.shape))"
   ]
  },
  {
   "cell_type": "markdown",
   "metadata": {},
   "source": [
    "### 把照片和 predict 的值做比較，確實挺準的！！！<br>(當然準阿，資料那麼簡單......)"
   ]
  },
  {
   "cell_type": "code",
   "execution_count": 11,
   "metadata": {},
   "outputs": [
    {
     "data": {
      "image/png": "[encoded data removed]",
      "text/plain": [
       "<Figure size 432x288 with 15 Axes>"
      ]
     },
     "metadata": {},
     "output_type": "display_data"
    }
   ],
   "source": [
    "fig = plt.figure()\n",
    "n=0\n",
    "#plt.subplot(2, 2, i+1)\n",
    "\n",
    "for i in range(16):\n",
    "    plt.subplot(4, 4, i+1)\n",
    "    plt.imshow(X=Xt[i+n, :, :, 0], cmap='gray', interpolation=None)\n",
    "    plt.title(\"{}\".format(ans[i+n]))\n",
    "    plt.tight_layout()\n",
    "    plt.xticks([])\n",
    "    plt.yticks([])\n",
    "\n",
    "#plt.imshow(Xt[-2, :, :, 0], cmap='gray')"
   ]
  },
  {
   "cell_type": "markdown",
   "metadata": {},
   "source": [
    "### 第一種變形：整張圖色碼乘上倍數，顏色深度會不太一樣，對於人眼而言是同樣數字，但AI判斷結果不同。\n",
    "(右下角的白點是anchor，因為cmap會把值做normalize，因此不設一個白點的話，會看不出顏色有變化。)"
   ]
  },
  {
   "cell_type": "code",
   "execution_count": 35,
   "metadata": {},
   "outputs": [
    {
     "name": "stdout",
     "output_type": "stream",
     "text": [
      "Xt = Xt_wrong ? : False\n"
     ]
    },
    {
     "data": {
      "text/plain": [
       "<Figure size 720x720 with 0 Axes>"
      ]
     },
     "metadata": {},
     "output_type": "display_data"
    },
    {
     "data": {
      "image/png": "[encoded data removed]",
      "text/plain": [
       "<Figure size 432x288 with 2 Axes>"
      ]
     },
     "metadata": {
      "needs_background": "light"
     },
     "output_type": "display_data"
    }
   ],
   "source": [
    "n1=1\n",
    "Xt_wrong = Xt.copy()\n",
    "Xt_wrong *= 0.2\n",
    "Xt_wrong[n1, 27, 27, 0] = 1\n",
    "result_wrong = model.predict(Xt_wrong)\n",
    "ans_wrong = result_wrong.argmax(1)\n",
    "\n",
    "fig = plt.figure(figsize=(10, 10))\n",
    "fig, ax = plt.subplots(1, 2)\n",
    "ax[0].imshow(Xt_wrong[n1, :, :, 0], cmap='gray')\n",
    "ax[0].set_title(\"predicted: {}\".format(str(ans_wrong[n1])))\n",
    "ax[1].imshow(Xt[n1, :, :, 0], cmap='gray')\n",
    "ax[1].set_title(\"ans/pred: {0}/{1}\".format(str(y_test[n1]), str(ans[n1])))\n",
    "print (\"Xt = Xt_wrong ? : \"+str(np.all(Xt_wrong[n1, :, :, 0] == Xt[n1, :, :, 0])))\n"
   ]
  },
  {
   "cell_type": "markdown",
   "metadata": {},
   "source": [
    "## 第二種：等間隔改動其值，圖形在點很多時無法分辨，但對於AI而言是不同的數字。"
   ]
  },
  {
   "cell_type": "code",
   "execution_count": 36,
   "metadata": {},
   "outputs": [
    {
     "name": "stdout",
     "output_type": "stream",
     "text": [
      "Xt = Xt_wrong2 ? : False\n"
     ]
    },
    {
     "data": {
      "text/plain": [
       "<Figure size 432x288 with 0 Axes>"
      ]
     },
     "metadata": {},
     "output_type": "display_data"
    },
    {
     "data": {
      "image/png": "[encoded data removed]",
      "text/plain": [
       "<Figure size 432x288 with 2 Axes>"
      ]
     },
     "metadata": {
      "needs_background": "light"
     },
     "output_type": "display_data"
    }
   ],
   "source": [
    "n2 = 2\n",
    "Xt_wrong2 = Xt.copy()\n",
    "for i in range(len(Xt_wrong2[n2, :, 0, 0])):\n",
    "    for j in range(len(Xt_wrong2[n2, 0, :, 0])):\n",
    "        if (j%5 == 1) & (i%4 == 3):\n",
    "            Xt_wrong2[n2, i, j, 0] *= -1\n",
    "            if (Xt_wrong2[n2, i, j, 0] == 0):\n",
    "                Xt_wrong2[n2, i, j, 0] = 1\n",
    "\n",
    "result_wrong2 = model.predict(Xt_wrong2)\n",
    "ans_wrong2 = result_wrong2.argmax(1)\n",
    "\n",
    "fig = plt.figure()\n",
    "fig, ax = plt.subplots(1, 2)\n",
    "ax[0].imshow(Xt_wrong2[n2, :, :, 0], cmap='gray')\n",
    "ax[0].set_title(\"predicted: {}\".format(str(ans_wrong2[n2])))\n",
    "ax[1].imshow(Xt[n2, :, :, 0], cmap='gray')\n",
    "ax[1].set_title(\"ans/pred: {0}/{1}\".format(str(y_test[n2]), str(ans[n2])))\n",
    "print (\"Xt = Xt_wrong2 ? : \"+str(np.all(Xt_wrong2[n2, :, :, 0] == Xt[n2, :, :, 0])))\n"
   ]
  },
  {
   "cell_type": "markdown",
   "metadata": {},
   "source": [
    "## 第三種，跟第一種很像，反白圖形。"
   ]
  },
  {
   "cell_type": "code",
   "execution_count": 37,
   "metadata": {},
   "outputs": [
    {
     "name": "stdout",
     "output_type": "stream",
     "text": [
      "Xt = Xt_wrong3 ? : False\n"
     ]
    },
    {
     "data": {
      "text/plain": [
       "<Figure size 432x288 with 0 Axes>"
      ]
     },
     "metadata": {},
     "output_type": "display_data"
    },
    {
     "data": {
      "image/png": "[encoded data removed]",
      "text/plain": [
       "<Figure size 432x288 with 2 Axes>"
      ]
     },
     "metadata": {
      "needs_background": "light"
     },
     "output_type": "display_data"
    }
   ],
   "source": [
    "n3 = 84\n",
    "Xt_wrong3 = Xt.copy()\n",
    "\n",
    "for i in range(28):\n",
    "    for j in range(28):\n",
    "        if (Xt_wrong3[n3, i, j, 0] == 0):\n",
    "            Xt_wrong3[n3, i, j, 0] == 1\n",
    "Xt_wrong3[n3, :, :, 0] *= -1\n",
    "\n",
    "result_wrong3 = model.predict(Xt_wrong3)\n",
    "ans_wrong3 = result_wrong3.argmax(1)\n",
    "\n",
    "fig = plt.figure()\n",
    "fig, ax = plt.subplots(1, 2)\n",
    "ax[0].imshow(Xt_wrong3[n3, :, :, 0], cmap='gray')\n",
    "ax[0].set_title(\"predicted: {}\".format(str(ans_wrong3[n3])))\n",
    "ax[1].imshow(Xt[n3, :, :, 0], cmap='gray')\n",
    "ax[1].set_title(\"ans/pred: {0}/{1}\".format(str(y_test[n3]), str(ans[n3])))\n",
    "print (\"Xt = Xt_wrong3 ? : \"+str(np.all(Xt_wrong3[n3, :, :, 0] == Xt[n3, :, :, 0])))\n"
   ]
  },
  {
   "cell_type": "markdown",
   "metadata": {},
   "source": [
    "## 第四種：數字平移過多，造成AI判斷的變化(當然這個其實只要能針對數字做bounding box的話應該很好解決)。"
   ]
  },
  {
   "cell_type": "code",
   "execution_count": 38,
   "metadata": {},
   "outputs": [
    {
     "name": "stdout",
     "output_type": "stream",
     "text": [
      "Xt = Xt_wrong4 ? : False\n"
     ]
    },
    {
     "data": {
      "text/plain": [
       "<Figure size 432x288 with 0 Axes>"
      ]
     },
     "metadata": {},
     "output_type": "display_data"
    },
    {
     "data": {
      "image/png": "[encoded data removed]",
      "text/plain": [
       "<Figure size 432x288 with 2 Axes>"
      ]
     },
     "metadata": {
      "needs_background": "light"
     },
     "output_type": "display_data"
    }
   ],
   "source": [
    "n4 = 87\n",
    "Xt_wrong4 = Xt.copy()\n",
    "\n",
    "for i in range(25):\n",
    "    for j in range(28):\n",
    "        Xt_wrong4[n4, i, j, 0] = Xt_wrong4[n4, i+3, j, 0] \n",
    "\n",
    "result_wrong4 = model.predict(Xt_wrong4)\n",
    "ans_wrong4 = result_wrong4.argmax(1)\n",
    "\n",
    "fig = plt.figure()\n",
    "fig, ax = plt.subplots(1, 2)\n",
    "ax[0].imshow(Xt_wrong4[n4, :, :, 0], cmap='gray')\n",
    "ax[0].set_title(\"predicted: {}\".format(str(ans_wrong4[n4])))\n",
    "ax[1].imshow(Xt[n4, :, :, 0], cmap='gray')\n",
    "ax[1].set_title(\"ans/pred: {0}/{1}\".format(str(y_test[n4]), str(ans[n4])))\n",
    "print (\"Xt = Xt_wrong4 ? : \"+str(np.all(Xt_wrong4[n4, :, :, 0] == Xt[n4, :, :, 0])))"
   ]
  },
  {
   "cell_type": "markdown",
   "metadata": {},
   "source": [
    "### 圖片本身有條狀汙損(?)，本質上和第二種有點類似。"
   ]
  },
  {
   "cell_type": "code",
   "execution_count": 68,
   "metadata": {},
   "outputs": [
    {
     "name": "stdout",
     "output_type": "stream",
     "text": [
      "Xt = Xt_wrong5 ? : False\n"
     ]
    },
    {
     "data": {
      "text/plain": [
       "<Figure size 432x288 with 0 Axes>"
      ]
     },
     "metadata": {},
     "output_type": "display_data"
    },
    {
     "data": {
      "image/png": "[encoded data removed]",
      "text/plain": [
       "<Figure size 432x288 with 2 Axes>"
      ]
     },
     "metadata": {
      "needs_background": "light"
     },
     "output_type": "display_data"
    }
   ],
   "source": [
    "n5 = 222\n",
    "Xt_wrong5 = Xt.copy()\n",
    "\n",
    "for i in range(26):\n",
    "    for j in range(20):\n",
    "        if (j%3==1):\n",
    "            Xt_wrong5[n5, i, 3+j, 0]=0.8\n",
    "\n",
    "        \n",
    "result_wrong5 = model.predict(Xt_wrong5)\n",
    "ans_wrong5 = result_wrong5.argmax(1)\n",
    "\n",
    "fig = plt.figure()\n",
    "fig, ax = plt.subplots(1, 2)\n",
    "ax[0].imshow(Xt_wrong5[n5, :, :, 0], cmap='gray')\n",
    "ax[0].set_title(\"predicted: {}\".format(str(ans_wrong5[n5])))\n",
    "ax[1].imshow(Xt[n5, :, :, 0], cmap='gray')\n",
    "ax[1].set_title(\"ans/pred: {0}/{1}\".format(str(y_test[n5]), str(ans[n5])))\n",
    "print (\"Xt = Xt_wrong5 ? : \"+str(np.all(Xt_wrong5[n5, :, :, 0] == Xt[n5, :, :, 0])))\n"
   ]
  },
  {
   "cell_type": "markdown",
   "metadata": {},
   "source": [
    "## 之所以做這些測試是因為想到很多網站進行驗證時所使用的驗證碼，幾乎都是一些極度扭曲的數字，不知道我大AI能否破解這些照片？"
   ]
  }
 ],
 "metadata": {
  "kernelspec": {
   "display_name": "Python 3",
   "language": "python",
   "name": "python3"
  },
  "language_info": {
   "codemirror_mode": {
    "name": "ipython",
    "version": 3
   },
   "file_extension": ".py",
   "mimetype": "text/x-python",
   "name": "python",
   "nbconvert_exporter": "python",
   "pygments_lexer": "ipython3",
   "version": "3.6.0"
  }
 },
 "nbformat": 4,
 "nbformat_minor": 2
}
