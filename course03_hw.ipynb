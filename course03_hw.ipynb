{
 "cells": [
  {
   "cell_type": "code",
   "execution_count": 183,
   "metadata": {},
   "outputs": [
    {
     "name": "stdout",
     "output_type": "stream",
     "text": [
      "[[ 6.  8.  3.  2.  3.]\n",
      " [ 9.  5. 10.  6.  6.]\n",
      " [ 5.  8.  2.  9.  6.]\n",
      " [ 5.  7.  7.  8.  1.]\n",
      " [ 2.  2. 10.  5. 10.]]\n",
      "[[ 1.  0.  0.  0.  0.]\n",
      " [-0.  1. -0. -0. -0.]\n",
      " [ 0.  0.  1.  0.  0.]\n",
      " [-0. -0. -0.  1. -0.]\n",
      " [ 0.  0.  0.  0.  1.]]\n"
     ]
    }
   ],
   "source": [
    "import numpy as np\n",
    "import random\n",
    "import decimal\n",
    "\n",
    "vector = np.array([[float(random.randint(1, 10)) for _ in range(5)] for _ in range(5)])\n",
    "print (vector)\n",
    "\n",
    "def reduce(vector):\n",
    "    a=0\n",
    "    for i in range(len(vector)-1):\n",
    "        for j in range(i+1, len(vector)):\n",
    "            if vector[i][i] != 0:\n",
    "                vector[j] -= vector[j][i]/vector[i][i]*vector[i]\n",
    "    vector[-1] /= vector[-1][-1]\n",
    "    for i in range(len(vector)-1, 0, -1):\n",
    "        for j in range(i-1, -1, -1):\n",
    "            if vector[i][i] != 0:\n",
    "                vector[j] -= vector[j][i]/vector[i][i]*vector[i]\n",
    "        if vector[i][i] != 0:\n",
    "            vector[i-1] = vector[i-1] / vector[i-1][i-1]\n",
    "    np.around(vector, 3)        \n",
    "\n",
    "    \n",
    "reduce(vector)\n",
    "\n",
    "print (vector)"
   ]
  },
  {
   "cell_type": "code",
   "execution_count": null,
   "metadata": {},
   "outputs": [],
   "source": []
  }
 ],
 "metadata": {
  "kernelspec": {
   "display_name": "Python 3",
   "language": "python",
   "name": "python3"
  },
  "language_info": {
   "codemirror_mode": {
    "name": "ipython",
    "version": 3
   },
   "file_extension": ".py",
   "mimetype": "text/x-python",
   "name": "python",
   "nbconvert_exporter": "python",
   "pygments_lexer": "ipython3",
   "version": "3.6.5"
  }
 },
 "nbformat": 4,
 "nbformat_minor": 2
}
